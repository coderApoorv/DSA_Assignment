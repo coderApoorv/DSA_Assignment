{
 "cells": [
  {
   "cell_type": "markdown",
   "id": "f44133e4-0397-45df-8628-af0a165fe710",
   "metadata": {},
   "source": [
    "1. Write a Python program to reverse a string without using any built-in string reversal functions."
   ]
  },
  {
   "cell_type": "code",
   "execution_count": 2,
   "id": "01d75470-d7e3-47f6-afa3-28b72925d9db",
   "metadata": {},
   "outputs": [
    {
     "data": {
      "text/plain": [
       "'vroopA'"
      ]
     },
     "execution_count": 2,
     "metadata": {},
     "output_type": "execute_result"
    }
   ],
   "source": [
    "def reverse_string(s : str)->str:\n",
    "    l = list(s)\n",
    "    low = 0\n",
    "    high = len(l)-1\n",
    "    while low<high:\n",
    "        l[low],l[high] = l[high],l[low]\n",
    "        low += 1\n",
    "        high -= 1\n",
    "    return ''.join(l)    \n",
    "s = 'Apoorv'\n",
    "reverse_string(s)"
   ]
  },
  {
   "cell_type": "markdown",
   "id": "d8a7c203-9607-4809-86a3-21b41f46aa6b",
   "metadata": {},
   "source": [
    "2. Implement a function to check if a given string is a palindrome"
   ]
  },
  {
   "cell_type": "code",
   "execution_count": 6,
   "id": "cb3e371c-351b-4c29-9846-b9ff680eda51",
   "metadata": {},
   "outputs": [
    {
     "data": {
      "text/plain": [
       "True"
      ]
     },
     "execution_count": 6,
     "metadata": {},
     "output_type": "execute_result"
    }
   ],
   "source": [
    "def check_palindrome(s : str)->bool:\n",
    "    low = 0\n",
    "    high = len(s)-1\n",
    "    b = False\n",
    "    while low<high:\n",
    "        if (s[low].lower == s[high].lower):\n",
    "            low += 1\n",
    "            high -= 1\n",
    "            b = True\n",
    "        else:\n",
    "            break\n",
    "    return b        \n",
    "        \n",
    "s = 'arra'\n",
    "check_palindrome(s)"
   ]
  },
  {
   "cell_type": "markdown",
   "id": "fb8c3c9b-ca22-4ef0-97e9-20d14ddb932c",
   "metadata": {},
   "source": [
    "3. Write a program to find the largest element in a given list."
   ]
  },
  {
   "cell_type": "code",
   "execution_count": 8,
   "id": "f907604c-ef59-4e1f-abca-2ec893a68f55",
   "metadata": {},
   "outputs": [
    {
     "data": {
      "text/plain": [
       "3"
      ]
     },
     "execution_count": 8,
     "metadata": {},
     "output_type": "execute_result"
    }
   ],
   "source": [
    "def largest_element(l : list[int])->int:\n",
    "    l.sort()\n",
    "    return l[len(l)-1]\n",
    "\n",
    "l = [1,2,3]\n",
    "largest_element(l)"
   ]
  },
  {
   "cell_type": "markdown",
   "id": "13c8e855-60d2-4668-877f-d007d92f98f8",
   "metadata": {},
   "source": [
    "4. Implement a function to count the occurrence of each element in a list."
   ]
  },
  {
   "cell_type": "code",
   "execution_count": 32,
   "id": "0be23372-c962-487b-8364-d3291cce11d7",
   "metadata": {},
   "outputs": [
    {
     "name": "stdout",
     "output_type": "stream",
     "text": [
      "{1: 2, 2: 3, 3: 1, 4: 2, 5: 1}\n"
     ]
    }
   ],
   "source": [
    "def count_occurrences(lst):\n",
    "    occurrence_count = {}\n",
    "    for element in lst:\n",
    "        if element in occurrence_count:\n",
    "            occurrence_count[element] += 1\n",
    "        else:\n",
    "            occurrence_count[element] = 1\n",
    "    return occurrence_count\n",
    "\n",
    "\n",
    "my_list = [1, 2, 3, 2, 4, 1, 2, 4, 5]\n",
    "occurrences = count_occurrences(my_list)\n",
    "print(occurrences)\n"
   ]
  },
  {
   "cell_type": "markdown",
   "id": "1c8b8e87-d039-4a13-8dea-887adecf24e1",
   "metadata": {},
   "source": [
    "5. Write a Python program to find the second largest number in a list.\n"
   ]
  },
  {
   "cell_type": "code",
   "execution_count": 9,
   "id": "cf695ea1-b98f-497b-bab4-2cb3a0d27d8e",
   "metadata": {},
   "outputs": [
    {
     "data": {
      "text/plain": [
       "3"
      ]
     },
     "execution_count": 9,
     "metadata": {},
     "output_type": "execute_result"
    }
   ],
   "source": [
    "def largest_element(l : list[int])->int:\n",
    "    l.sort()\n",
    "    return l[len(l)-2]\n",
    "\n",
    "l = [3,2,4]\n",
    "largest_element(l)"
   ]
  },
  {
   "cell_type": "markdown",
   "id": "5c146350-e9e0-4b7f-a726-55e64b78c017",
   "metadata": {},
   "source": [
    "6. Implement a function to remove duplicate elements from a list."
   ]
  },
  {
   "cell_type": "code",
   "execution_count": 26,
   "id": "2c5c76af-4dc1-41bf-a6d5-48b5dd0fe496",
   "metadata": {},
   "outputs": [
    {
     "data": {
      "text/plain": [
       "[1, 2, 3, 4, 6]"
      ]
     },
     "execution_count": 26,
     "metadata": {},
     "output_type": "execute_result"
    }
   ],
   "source": [
    "def remove_duplicate(l : list[int])->list[int]:\n",
    "    return list(set(l))\n",
    "l = [1,1,2,3,4,6,6]\n",
    "remove_duplicate(l)"
   ]
  },
  {
   "cell_type": "markdown",
   "id": "13d4bbee-7d1c-4c68-8a11-880703f8a553",
   "metadata": {},
   "source": [
    "7. Write a program to calculate the factorial of a given number."
   ]
  },
  {
   "cell_type": "code",
   "execution_count": 28,
   "id": "32cf4e7b-d238-4bc6-a3df-027d77470d92",
   "metadata": {},
   "outputs": [
    {
     "data": {
      "text/plain": [
       "120"
      ]
     },
     "execution_count": 28,
     "metadata": {},
     "output_type": "execute_result"
    }
   ],
   "source": [
    "def factorial(n : int)->int:\n",
    "    if n == 0 or n == 1:\n",
    "        return 1\n",
    "    else:\n",
    "        return n*factorial(n-1)\n",
    "n = 5\n",
    "factorial(n)"
   ]
  },
  {
   "cell_type": "markdown",
   "id": "f901ef9e-2617-48a1-aa4e-c8efc00cc65c",
   "metadata": {},
   "source": [
    "8. Implement a function to check if a given number is prime."
   ]
  },
  {
   "cell_type": "code",
   "execution_count": 18,
   "id": "de1a6d06-f7fa-496f-9912-810c7c9ed9cd",
   "metadata": {},
   "outputs": [
    {
     "data": {
      "text/plain": [
       "False"
      ]
     },
     "execution_count": 18,
     "metadata": {},
     "output_type": "execute_result"
    }
   ],
   "source": [
    "def  prime_check(n : int)-> bool:\n",
    "    c = 0\n",
    "    \n",
    "    for i in range(1,(n//2)+1):\n",
    "        if n%i==0:\n",
    "            c += 1\n",
    "    if c == 2:\n",
    "        return True\n",
    "    else:\n",
    "        return False\n",
    "n = 7\n",
    "prime_check(n)"
   ]
  },
  {
   "cell_type": "markdown",
   "id": "3728bd7b-11f8-465e-ae4f-030a2dd1f25e",
   "metadata": {},
   "source": [
    "9. Write a Python program to sort a list of integers in ascending order."
   ]
  },
  {
   "cell_type": "code",
   "execution_count": 1,
   "id": "98b3b700-ab7b-4e9f-9e02-e05255784b5a",
   "metadata": {},
   "outputs": [
    {
     "name": "stdout",
     "output_type": "stream",
     "text": [
      "[1, 2, 3, 4, 5, 8, 9]\n"
     ]
    }
   ],
   "source": [
    "def bubble_sort(numbers):\n",
    "    n = len(numbers)\n",
    "    \n",
    "    for i in range(n-1):\n",
    "        for j in range(n-1-i):\n",
    "            if numbers[j] > numbers[j+1]:\n",
    "                numbers[j], numbers[j+1] = numbers[j+1], numbers[j]\n",
    "\n",
    "    return numbers\n",
    "\n",
    "\n",
    "my_list = [4, 2, 8, 5, 1, 9, 3]\n",
    "sorted_list = bubble_sort(my_list)\n",
    "print(sorted_list)\n"
   ]
  },
  {
   "cell_type": "markdown",
   "id": "97622a60-9ca8-4fdc-81e3-75b9aa4d9505",
   "metadata": {},
   "source": [
    "10. Implement a function to find the sum of all numbers in a list."
   ]
  },
  {
   "cell_type": "code",
   "execution_count": 20,
   "id": "5f77d2d2-fcfd-42fb-86fa-00647ac8ae78",
   "metadata": {},
   "outputs": [
    {
     "data": {
      "text/plain": [
       "10"
      ]
     },
     "execution_count": 20,
     "metadata": {},
     "output_type": "execute_result"
    }
   ],
   "source": [
    "def sum_numbers(l : list[int])->int:\n",
    "    s = 0\n",
    "    for i in l:\n",
    "        s = s + i\n",
    "    return s  \n",
    "\n",
    "l = [1,2,3,4]\n",
    "sum_numbers(l)"
   ]
  },
  {
   "cell_type": "markdown",
   "id": "5282fe99-2185-445e-bc28-cc84103687a7",
   "metadata": {},
   "source": [
    "11. Write a program to find the common elements between two lists."
   ]
  },
  {
   "cell_type": "code",
   "execution_count": 2,
   "id": "7d97f97f-60ff-4693-8985-36b89485acbd",
   "metadata": {},
   "outputs": [
    {
     "data": {
      "text/plain": [
       "[2]"
      ]
     },
     "execution_count": 2,
     "metadata": {},
     "output_type": "execute_result"
    }
   ],
   "source": [
    "def common_elements(l : list[int], k : list[int])-> list[int]:\n",
    "    s1 = set(l)\n",
    "    s2 = set(k)\n",
    "    return list(s1.intersection(s2))\n",
    "\n",
    "l = [1,2,3]\n",
    "k = [2,4,5]\n",
    "common_elements(l,k)"
   ]
  },
  {
   "cell_type": "markdown",
   "id": "6cd5e16e-a3dc-4ce4-b1c6-04d0bc9ee9c3",
   "metadata": {},
   "source": [
    "12. Implement a function to check if a given string is an anagram of another string."
   ]
  },
  {
   "cell_type": "code",
   "execution_count": 26,
   "id": "55ef7ec5-1d46-46ce-9c3b-83f7df834b08",
   "metadata": {},
   "outputs": [
    {
     "name": "stdout",
     "output_type": "stream",
     "text": [
      "The strings are anagrams.\n"
     ]
    }
   ],
   "source": [
    "def is_anagram(string1, string2):\n",
    "    \n",
    "    string1 = string1.lower().replace(\" \", \"\")\n",
    "    string2 = string2.lower().replace(\" \", \"\")\n",
    "\n",
    "    if len(string1) != len(string2):\n",
    "        return False\n",
    "\n",
    "   \n",
    "    char_count = {}\n",
    "    for char in string1:\n",
    "        if char in char_count:\n",
    "            char_count[char] += 1\n",
    "        else:\n",
    "            char_count[char] = 1\n",
    "\n",
    "    for char in string2:\n",
    "        if char in char_count:\n",
    "            char_count[char] -= 1\n",
    "            if char_count[char] == 0:\n",
    "                del char_count[char]\n",
    "        else:\n",
    "            return False\n",
    "\n",
    "    return len(char_count) == 0\n",
    "\n",
    "string1 = \"listen\"\n",
    "string2 = \"silent\"\n",
    "if is_anagram(string1, string2):\n",
    "    print(\"The strings are anagrams.\")\n",
    "else:\n",
    "    print(\"The strings are not anagrams.\")\n",
    "\n"
   ]
  },
  {
   "cell_type": "markdown",
   "id": "a0e11345-999a-4987-9751-1700ac17d953",
   "metadata": {},
   "source": [
    "13. Write a Python program to generate all permutations of a given string."
   ]
  },
  {
   "cell_type": "code",
   "execution_count": 27,
   "id": "3b4852ed-f28c-4ce3-837b-94148fb8b86a",
   "metadata": {},
   "outputs": [
    {
     "name": "stdout",
     "output_type": "stream",
     "text": [
      "abc\n",
      "acb\n",
      "bac\n",
      "bca\n",
      "cab\n",
      "cba\n"
     ]
    }
   ],
   "source": [
    "def generate_permutations(string):\n",
    "    \n",
    "    if len(string) == 1:\n",
    "        return [string]\n",
    "\n",
    "    permutations = []\n",
    "    for i in range(len(string)):\n",
    "        \n",
    "        current_char = string[i]\n",
    "\n",
    "        remaining_chars = string[:i] + string[i + 1:]\n",
    "        sub_permutations = generate_permutations(remaining_chars)\n",
    "\n",
    "        for sub_permutation in sub_permutations:\n",
    "            permutations.append(current_char + sub_permutation)\n",
    "\n",
    "    return permutations\n",
    "\n",
    "input_string = \"abc\"\n",
    "permutations = generate_permutations(input_string)\n",
    "for permutation in permutations:\n",
    "    print(permutation)\n"
   ]
  },
  {
   "cell_type": "markdown",
   "id": "7d17f3f3-8d15-48c6-897f-0759720e1de3",
   "metadata": {},
   "source": [
    "14. Implement a function to calculate the Fibonacci sequence up to a given number of terms."
   ]
  },
  {
   "cell_type": "code",
   "execution_count": 28,
   "id": "6e83d223-68e5-4065-b729-b92a3f9a8edc",
   "metadata": {},
   "outputs": [
    {
     "name": "stdout",
     "output_type": "stream",
     "text": [
      "[0, 1, 1, 2, 3, 5, 8, 13, 21, 34]\n"
     ]
    }
   ],
   "source": [
    "def fibonacci_sequence(n):\n",
    "    sequence = []\n",
    "    if n <= 0:\n",
    "        return sequence\n",
    "\n",
    "    sequence.append(0)\n",
    "    if n == 1:\n",
    "        return sequence\n",
    "\n",
    "    sequence.append(1)\n",
    "    if n == 2:\n",
    "        return sequence\n",
    "\n",
    "    for i in range(2, n):\n",
    "        term = sequence[i-1] + sequence[i-2]\n",
    "        sequence.append(term)\n",
    "\n",
    "    return sequence\n",
    "\n",
    "num_terms = 10\n",
    "fibonacci = fibonacci_sequence(num_terms)\n",
    "print(fibonacci)\n"
   ]
  },
  {
   "cell_type": "markdown",
   "id": "83f167a8-fbe5-424c-b3b8-1606a618da34",
   "metadata": {},
   "source": [
    "15. Write a program to find the median of a list of numbers."
   ]
  },
  {
   "cell_type": "code",
   "execution_count": 24,
   "id": "9c2d9a58-d641-4518-b7d8-be4118f2f986",
   "metadata": {},
   "outputs": [
    {
     "data": {
      "text/plain": [
       "3"
      ]
     },
     "execution_count": 24,
     "metadata": {},
     "output_type": "execute_result"
    }
   ],
   "source": [
    "def find_median(l : list[int])-> int:\n",
    "    l.sort()\n",
    "    if len(l)%2==0:\n",
    "        return l[((len(l)//2)+((len(l)//2)+1))//2]\n",
    "    \n",
    "    else:\n",
    "        return l[(len(l)//2)+1]\n",
    "l = [1,2,3,4]\n",
    "find_median(l)"
   ]
  },
  {
   "cell_type": "markdown",
   "id": "230f65c7-9a25-4004-bd22-7c769d42b3a4",
   "metadata": {},
   "source": [
    "16. Implement a function to check if a given list is sorted in non-decreasing order."
   ]
  },
  {
   "cell_type": "code",
   "execution_count": 4,
   "id": "4fdc0720-13c4-4894-a487-eb6020cb10fb",
   "metadata": {},
   "outputs": [
    {
     "data": {
      "text/plain": [
       "False"
      ]
     },
     "execution_count": 4,
     "metadata": {},
     "output_type": "execute_result"
    }
   ],
   "source": [
    "def non_dec(l : list[int])->bool:\n",
    "    b = False\n",
    "    for i in range(len(l)-1):\n",
    "        if l[i]>l[i+1]:\n",
    "            b = True\n",
    "            continue\n",
    "        else:\n",
    "            b = False\n",
    "            break\n",
    "    return b   \n",
    "\n",
    "l = [1,2,5,3]\n",
    "non_dec(l)"
   ]
  },
  {
   "cell_type": "markdown",
   "id": "9872bd4c-dea2-4c51-b1ae-3fd2119412f5",
   "metadata": {},
   "source": [
    "17. Write a Python program to find the intersection of two lists."
   ]
  },
  {
   "cell_type": "code",
   "execution_count": 5,
   "id": "119c7cde-5506-4623-ac78-b38bf1a85a1d",
   "metadata": {},
   "outputs": [
    {
     "data": {
      "text/plain": [
       "[2]"
      ]
     },
     "execution_count": 5,
     "metadata": {},
     "output_type": "execute_result"
    }
   ],
   "source": [
    "def common_elements(l : list[int], k : list[int])-> list[int]:\n",
    "    s1 = set(l)\n",
    "    s2 = set(k)\n",
    "    return list(s1.intersection(s2))\n",
    "\n",
    "l = [1,2,3]\n",
    "k = [2,4,5]\n",
    "common_elements(l,k)"
   ]
  },
  {
   "cell_type": "markdown",
   "id": "f643b029-a87d-46aa-a828-7be5915980b6",
   "metadata": {},
   "source": [
    "18. Implement a function to find the maximum subarray sum in a given list."
   ]
  },
  {
   "cell_type": "code",
   "execution_count": 34,
   "id": "5b8ba574-2218-43e1-a606-dad77c5c8940",
   "metadata": {},
   "outputs": [
    {
     "name": "stdout",
     "output_type": "stream",
     "text": [
      "6\n"
     ]
    }
   ],
   "source": [
    "def max_subarray_sum(arr):\n",
    "    if not arr:\n",
    "        return 0\n",
    "\n",
    "    max_sum = arr[0]\n",
    "    current_sum = arr[0]\n",
    "\n",
    "    for num in arr[1:]:\n",
    "        current_sum = max(num, current_sum + num)\n",
    "        max_sum = max(max_sum, current_sum)\n",
    "\n",
    "    return max_sum\n",
    "\n",
    "my_list = [-2, 1, -3, 4, -1, 2, 1, -5, 4]\n",
    "max_sum = max_subarray_sum(my_list)\n",
    "print(max_sum)\n"
   ]
  },
  {
   "cell_type": "markdown",
   "id": "a7344525-655e-43fc-a249-baaa7c1669a1",
   "metadata": {},
   "source": [
    "19. Write a program to remove all vowels from a given string."
   ]
  },
  {
   "cell_type": "code",
   "execution_count": 33,
   "id": "515333ec-5847-40ce-8a18-ccfd9a91a2d5",
   "metadata": {},
   "outputs": [
    {
     "name": "stdout",
     "output_type": "stream",
     "text": [
      "Hll, Wrld!\n"
     ]
    }
   ],
   "source": [
    "def remove_vowels(string):\n",
    "    vowels = \"aeiouAEIOU\"\n",
    "    without_vowels = \"\"\n",
    "    for char in string:\n",
    "        if char not in vowels:\n",
    "            without_vowels += char\n",
    "    return without_vowels\n",
    "\n",
    "\n",
    "input_string = \"Hello, World!\"\n",
    "result = remove_vowels(input_string)\n",
    "print(result)\n"
   ]
  },
  {
   "cell_type": "markdown",
   "id": "d3ec5628-3af1-4e3c-abef-7a70e5d9173c",
   "metadata": {},
   "source": [
    "20. Implement a function to reverse the order of words in a given sentence."
   ]
  },
  {
   "cell_type": "code",
   "execution_count": 35,
   "id": "580226b6-6542-48a2-bca1-cc2cb3f2e6c8",
   "metadata": {},
   "outputs": [
    {
     "name": "stdout",
     "output_type": "stream",
     "text": [
      "sentence. a is This World! Hello,\n"
     ]
    }
   ],
   "source": [
    "def reverse_words(sentence):\n",
    "    words = sentence.split()\n",
    "    reversed_words = \" \".join(reversed(words))\n",
    "    return reversed_words\n",
    "\n",
    "input_sentence = \"Hello, World! This is a sentence.\"\n",
    "reversed_sentence = reverse_words(input_sentence)\n",
    "print(reversed_sentence)\n"
   ]
  },
  {
   "cell_type": "markdown",
   "id": "8fa17503-8b26-4ac6-b9ab-7dc5aa500ed6",
   "metadata": {},
   "source": [
    "21. Write a Python program to check if two strings are anagrams of each other."
   ]
  },
  {
   "cell_type": "code",
   "execution_count": 36,
   "id": "ef65867a-ad53-4d29-8343-66164f8d45c1",
   "metadata": {},
   "outputs": [
    {
     "name": "stdout",
     "output_type": "stream",
     "text": [
      "The strings are anagrams.\n"
     ]
    }
   ],
   "source": [
    "def is_anagram(string1, string2):\n",
    "    \n",
    "    string1 = string1.lower().replace(\" \", \"\")\n",
    "    string2 = string2.lower().replace(\" \", \"\")\n",
    "\n",
    "    if len(string1) != len(string2):\n",
    "        return False\n",
    "\n",
    "   \n",
    "    char_count = {}\n",
    "    for char in string1:\n",
    "        if char in char_count:\n",
    "            char_count[char] += 1\n",
    "        else:\n",
    "            char_count[char] = 1\n",
    "\n",
    "    for char in string2:\n",
    "        if char in char_count:\n",
    "            char_count[char] -= 1\n",
    "            if char_count[char] == 0:\n",
    "                del char_count[char]\n",
    "        else:\n",
    "            return False\n",
    "\n",
    "    return len(char_count) == 0\n",
    "\n",
    "string1 = \"listen\"\n",
    "string2 = \"silent\"\n",
    "if is_anagram(string1, string2):\n",
    "    print(\"The strings are anagrams.\")\n",
    "else:\n",
    "    print(\"The strings are not anagrams.\")\n",
    "\n"
   ]
  },
  {
   "cell_type": "markdown",
   "id": "55505e9c-d639-4a39-b19a-39aed885dcc2",
   "metadata": {},
   "source": [
    "22. Implement a function to find the first non-repeating character in a string."
   ]
  },
  {
   "cell_type": "code",
   "execution_count": 38,
   "id": "5c86d798-1ed6-4230-8c48-80dad95f9755",
   "metadata": {},
   "outputs": [
    {
     "name": "stdout",
     "output_type": "stream",
     "text": [
      "b\n"
     ]
    }
   ],
   "source": [
    "def find_first_non_repeating_char(string):\n",
    "    char_count = {}\n",
    "    for char in string:\n",
    "        if char in char_count:\n",
    "            char_count[char] += 1\n",
    "        else:\n",
    "            char_count[char] = 1\n",
    "\n",
    "    for char in string:\n",
    "        if char_count[char] == 1:\n",
    "            return char\n",
    "\n",
    "    \n",
    "    return None\n",
    "\n",
    "\n",
    "input_string = \"aabccdeff\"\n",
    "first_non_repeating = find_first_non_repeating_char(input_string)\n",
    "print(first_non_repeating)\n"
   ]
  },
  {
   "cell_type": "markdown",
   "id": "cc6633c1-7186-4ba6-99d5-2ae68c7e3f8d",
   "metadata": {},
   "source": [
    "23. Write a program to find the prime factors of a given number."
   ]
  },
  {
   "cell_type": "code",
   "execution_count": 39,
   "id": "ea4f1f62-f593-482c-8c2f-dcf0f41e2b85",
   "metadata": {},
   "outputs": [
    {
     "name": "stdout",
     "output_type": "stream",
     "text": [
      "[2, 2, 3, 7]\n"
     ]
    }
   ],
   "source": [
    "def prime_factors(n):\n",
    "    factors = []\n",
    "    divisor = 2\n",
    "\n",
    "    while divisor <= n:\n",
    "        if n % divisor == 0:\n",
    "            factors.append(divisor)\n",
    "            n //= divisor\n",
    "        else:\n",
    "            divisor += 1\n",
    "\n",
    "    return factors\n",
    "\n",
    "number = 84\n",
    "factors = prime_factors(number)\n",
    "print(factors)\n"
   ]
  },
  {
   "cell_type": "markdown",
   "id": "bdc3635a-2f31-463f-adbc-bbeb25314e26",
   "metadata": {},
   "source": [
    "24. Implement a function to check if a given number is a power of two."
   ]
  },
  {
   "cell_type": "code",
   "execution_count": 40,
   "id": "654b9684-0c93-4fb2-b4b0-008518b2b7b1",
   "metadata": {},
   "outputs": [
    {
     "name": "stdout",
     "output_type": "stream",
     "text": [
      "True\n"
     ]
    }
   ],
   "source": [
    "def is_power_of_two(n):\n",
    "    if n <= 0:\n",
    "        return False\n",
    "\n",
    "    \n",
    "    return (n & (n - 1)) == 0\n",
    "\n",
    "\n",
    "number = 16\n",
    "is_power = is_power_of_two(number)\n",
    "print(is_power)\n"
   ]
  },
  {
   "cell_type": "markdown",
   "id": "3190b6ad-8a52-4c25-b8f4-f0f1e6ff587f",
   "metadata": {},
   "source": [
    "25. Write a Python program to merge two sorted lists into a single sorted list."
   ]
  },
  {
   "cell_type": "code",
   "execution_count": 37,
   "id": "7b49c7f1-7c4f-41df-b35b-369107b40c0f",
   "metadata": {},
   "outputs": [
    {
     "name": "stdout",
     "output_type": "stream",
     "text": [
      "[1, 2, 3, 4, 5, 6, 7, 8, 9, 10]\n"
     ]
    }
   ],
   "source": [
    "def merge_sorted_lists(list1, list2):\n",
    "    merged_list = []\n",
    "    i = j = 0\n",
    "\n",
    "    while i < len(list1) and j < len(list2):\n",
    "        if list1[i] <= list2[j]:\n",
    "            merged_list.append(list1[i])\n",
    "            i += 1\n",
    "        else:\n",
    "            merged_list.append(list2[j])\n",
    "            j += 1\n",
    "\n",
    "    \n",
    "    while i < len(list1):\n",
    "        merged_list.append(list1[i])\n",
    "        i += 1\n",
    "\n",
    "    while j < len(list2):\n",
    "        merged_list.append(list2[j])\n",
    "        j += 1\n",
    "\n",
    "    return merged_list\n",
    "\n",
    "\n",
    "list1 = [1, 3, 5, 7, 9]\n",
    "list2 = [2, 4, 6, 8, 10]\n",
    "merged = merge_sorted_lists(list1, list2)\n",
    "print(merged)\n"
   ]
  },
  {
   "cell_type": "markdown",
   "id": "3761fadb-b709-45bc-8ff1-c5b700367f89",
   "metadata": {},
   "source": [
    "26. Implement a function to find the mode of a list of numbers."
   ]
  },
  {
   "cell_type": "code",
   "execution_count": 25,
   "id": "89f333d3-c116-419d-929d-b17840326279",
   "metadata": {},
   "outputs": [
    {
     "data": {
      "text/plain": [
       "3"
      ]
     },
     "execution_count": 25,
     "metadata": {},
     "output_type": "execute_result"
    }
   ],
   "source": [
    "def mode_list(l : list[int])->int:\n",
    "    d = {}\n",
    "    for i in l:\n",
    "        c = 0\n",
    "        for j in range(len(l)):\n",
    "            if i == l[j]:\n",
    "                c += 1\n",
    "        d[i] = c\n",
    "    return max(d, key= lambda x: d[x])  \n",
    "\n",
    "l = [1,2,3,3,3,4,5]\n",
    "mode_list(l)"
   ]
  },
  {
   "cell_type": "markdown",
   "id": "8b9c0935-01ef-40f0-9a61-8b1a9cc701bf",
   "metadata": {},
   "source": [
    "27. Write a program to find the greatest common divisor (GCD) of two numbers."
   ]
  },
  {
   "cell_type": "code",
   "execution_count": 43,
   "id": "4f6d3ccd-9aa8-4938-8fd1-5e550926fc62",
   "metadata": {},
   "outputs": [
    {
     "name": "stdout",
     "output_type": "stream",
     "text": [
      "12\n"
     ]
    }
   ],
   "source": [
    "def gcd(a, b):\n",
    "    while b != 0:\n",
    "        a, b = b, a % b\n",
    "    return a\n",
    "\n",
    "\n",
    "num1 = 36\n",
    "num2 = 48\n",
    "result = gcd(num1, num2)\n",
    "print(result)\n"
   ]
  },
  {
   "cell_type": "markdown",
   "id": "2e7b9e0e-5f04-4964-a211-0d820808d649",
   "metadata": {},
   "source": [
    "28. Implement a function to calculate the square root of a given number."
   ]
  },
  {
   "cell_type": "code",
   "execution_count": 3,
   "id": "ae9072df-b415-4ee4-b1c9-54094ccc2e96",
   "metadata": {},
   "outputs": [
    {
     "name": "stdout",
     "output_type": "stream",
     "text": [
      "4.0\n"
     ]
    }
   ],
   "source": [
    "def square_root(n):\n",
    "    if n < 0:\n",
    "        raise ValueError(\"Square root undefined for negative numbers\")\n",
    "    x = n\n",
    "    while True:\n",
    "       \n",
    "        next_approximation = 0.5 * (x + n / x)\n",
    "\n",
    "       \n",
    "        if abs(next_approximation - x) < 1e-9:\n",
    "            break\n",
    "\n",
    "        x = next_approximation\n",
    "\n",
    "    return next_approximation\n",
    "\n",
    "number = 16\n",
    "sqrt = square_root(number)\n",
    "print(sqrt)\n"
   ]
  },
  {
   "cell_type": "markdown",
   "id": "c1424622-3990-4ae6-b6ec-6be695e6488c",
   "metadata": {},
   "source": [
    "29. Write a Python program to check if a given string is a valid palindrome ignoring non-alphanumeric characters."
   ]
  },
  {
   "cell_type": "code",
   "execution_count": 2,
   "id": "2a64311a-0bf8-4aae-92f2-d909e6a8c085",
   "metadata": {},
   "outputs": [
    {
     "name": "stdout",
     "output_type": "stream",
     "text": [
      "True\n"
     ]
    }
   ],
   "source": [
    "import re\n",
    "\n",
    "def is_valid_palindrome(string):\n",
    "    \n",
    "    alphanumeric_string = re.sub(r'[^a-zA-Z0-9]', '', string)\n",
    "\n",
    "    \n",
    "    lowercase_string = alphanumeric_string.lower()\n",
    "\n",
    "    \n",
    "    return lowercase_string == lowercase_string[::-1]\n",
    "\n",
    "\n",
    "input_string = \"A man, a plan, a canal: Panama\"\n",
    "is_palindrome = is_valid_palindrome(input_string)\n",
    "print(is_palindrome)\n"
   ]
  },
  {
   "cell_type": "markdown",
   "id": "e55713c7-8851-4ace-84a7-d1397527eb17",
   "metadata": {},
   "source": [
    "30. Implement a function to find the minimum element in a rotated sorted list."
   ]
  },
  {
   "cell_type": "code",
   "execution_count": 1,
   "id": "59372a48-3ccc-4e97-82dd-24e3b33fd841",
   "metadata": {},
   "outputs": [
    {
     "name": "stdout",
     "output_type": "stream",
     "text": [
      "0\n"
     ]
    }
   ],
   "source": [
    "def find_minimum(nums):\n",
    "    left = 0\n",
    "    right = len(nums) - 1\n",
    "\n",
    "    while left < right:\n",
    "        mid = left + (right - left) // 2\n",
    "\n",
    "        if nums[mid] > nums[right]:\n",
    "            left = mid + 1\n",
    "\n",
    "        elif nums[mid] < nums[right]:\n",
    "            right = mid\n",
    "\n",
    "        else:\n",
    "            right -= 1\n",
    "\n",
    "    return nums[left]\n",
    "\n",
    "numbers = [4, 5, 6, 7, 0, 1, 2]\n",
    "minimum = find_minimum(numbers)\n",
    "print(minimum)\n"
   ]
  },
  {
   "cell_type": "markdown",
   "id": "71c14d7c-c3bd-445f-9fed-901710b1133f",
   "metadata": {},
   "source": [
    "31. Write a program to find the sum of all even numbers in a list."
   ]
  },
  {
   "cell_type": "code",
   "execution_count": 17,
   "id": "5a42a2d4-3e96-485c-8017-8b2130b505e5",
   "metadata": {},
   "outputs": [
    {
     "data": {
      "text/plain": [
       "6"
      ]
     },
     "execution_count": 17,
     "metadata": {},
     "output_type": "execute_result"
    }
   ],
   "source": [
    "def sum_even(l : list[int])->int:\n",
    "    s= 0\n",
    "    for i in l:\n",
    "        if i%2==0:\n",
    "            s = s + i\n",
    "    return s\n",
    "\n",
    "l = [1,2,3,4]\n",
    "sum_even(l)"
   ]
  },
  {
   "cell_type": "markdown",
   "id": "4ff6cb78-8372-4000-92b1-085e629472b1",
   "metadata": {},
   "source": [
    "32. Implement a function to calculate the power of a number using recursion."
   ]
  },
  {
   "cell_type": "code",
   "execution_count": 4,
   "id": "2eccc4ff-e649-4618-8379-6b94b184f765",
   "metadata": {},
   "outputs": [
    {
     "name": "stdout",
     "output_type": "stream",
     "text": [
      "8\n"
     ]
    }
   ],
   "source": [
    "def power(base, exponent):\n",
    "    if exponent == 0:\n",
    "        return 1\n",
    "    elif exponent < 0:\n",
    "        return 1 / power(base, -exponent)\n",
    "    else:\n",
    "        return base * power(base, exponent - 1)\n",
    "\n",
    "\n",
    "base = 2\n",
    "exponent = 3\n",
    "result = power(base, exponent)\n",
    "print(result)\n"
   ]
  },
  {
   "cell_type": "markdown",
   "id": "170cc3da-331c-4ca2-a386-a344de439f3c",
   "metadata": {},
   "source": [
    "33. Write a Python program to remove duplicates from a list while preserving the order."
   ]
  },
  {
   "cell_type": "code",
   "execution_count": 5,
   "id": "c981b20d-313b-45c0-a10d-683b8a1d2a98",
   "metadata": {},
   "outputs": [
    {
     "name": "stdout",
     "output_type": "stream",
     "text": [
      "[1, 2, 3, 4, 5, 6]\n"
     ]
    }
   ],
   "source": [
    "def remove_duplicates(lst):\n",
    "    seen = set()\n",
    "    result = []\n",
    "    \n",
    "    for item in lst:\n",
    "        if item not in seen:\n",
    "            seen.add(item)\n",
    "            result.append(item)\n",
    "    \n",
    "    return result\n",
    "\n",
    "\n",
    "input_list = [1, 2, 3, 2, 4, 1, 5, 6, 5]\n",
    "result_list = remove_duplicates(input_list)\n",
    "print(result_list)\n"
   ]
  },
  {
   "cell_type": "markdown",
   "id": "497c6d09-5113-42ce-9b6c-cb9118b9fe64",
   "metadata": {},
   "source": [
    "34. Implement a function to find the longest common prefix among a list of strings."
   ]
  },
  {
   "cell_type": "code",
   "execution_count": 7,
   "id": "db20ecbf-28af-4b3a-b728-34c3213ef16f",
   "metadata": {},
   "outputs": [
    {
     "name": "stdout",
     "output_type": "stream",
     "text": [
      "fl\n"
     ]
    }
   ],
   "source": [
    "def longest_common_prefix(strings):\n",
    "    if not strings:\n",
    "        return \"\"\n",
    "\n",
    "    shortest = min(strings, key=len)\n",
    "\n",
    "    for i, char in enumerate(shortest):\n",
    "   \n",
    "        if any(s[i] != char for s in strings):\n",
    "            return shortest[:i]\n",
    "\n",
    "    return shortest\n",
    "\n",
    "input_strings = [\"flower\", \"flow\", \"flight\"]\n",
    "common_prefix = longest_common_prefix(input_strings)\n",
    "print(common_prefix)\n"
   ]
  },
  {
   "cell_type": "markdown",
   "id": "011a2b45-1650-4a76-9982-6ce637b1ecc9",
   "metadata": {},
   "source": [
    "35. Write a program to check if a given number is a perfect square."
   ]
  },
  {
   "cell_type": "code",
   "execution_count": 6,
   "id": "360429e0-8abf-4146-9146-57b592125471",
   "metadata": {},
   "outputs": [
    {
     "name": "stdout",
     "output_type": "stream",
     "text": [
      "True\n"
     ]
    }
   ],
   "source": [
    "def is_perfect_square(number):\n",
    "    if number < 0:\n",
    "        return False\n",
    "    square_root = int(number ** 0.5)\n",
    "\n",
    "    return square_root * square_root == number\n",
    "\n",
    "num = 16\n",
    "is_square = is_perfect_square(num)\n",
    "print(is_square)\n"
   ]
  },
  {
   "cell_type": "markdown",
   "id": "01c3e819-5b90-4cdc-b55c-0b9a4a1f647e",
   "metadata": {},
   "source": [
    "36. Implement a function to calculate the product of all elements in a list."
   ]
  },
  {
   "cell_type": "code",
   "execution_count": 16,
   "id": "38760fe9-b451-4fba-b5d2-799f24600975",
   "metadata": {},
   "outputs": [
    {
     "data": {
      "text/plain": [
       "60"
      ]
     },
     "execution_count": 16,
     "metadata": {},
     "output_type": "execute_result"
    }
   ],
   "source": [
    "def product_list(l : list[int])->int:\n",
    "    p = 1\n",
    "    for i in l:\n",
    "        p = p*i\n",
    "    return p\n",
    "l = [1,3,4,5]\n",
    "product_list(l)"
   ]
  },
  {
   "cell_type": "markdown",
   "id": "126a1c26-a756-4573-a314-9501a8253f95",
   "metadata": {},
   "source": [
    "37. Write a Python program to reverse the order of words in a sentence while preserving the word order."
   ]
  },
  {
   "cell_type": "code",
   "execution_count": 8,
   "id": "d4cd5360-aece-43c9-9936-d756cbf31ac7",
   "metadata": {},
   "outputs": [
    {
     "name": "stdout",
     "output_type": "stream",
     "text": [
      "you? are how world, Hello\n"
     ]
    }
   ],
   "source": [
    "def reverse_words(sentence):\n",
    " \n",
    "    words = sentence.split()\n",
    "\n",
    "    reversed_words = words[::-1]\n",
    "\n",
    "  \n",
    "    reversed_sentence = \" \".join(reversed_words)\n",
    "\n",
    "    return reversed_sentence\n",
    "\n",
    "input_sentence = \"Hello world, how are you?\"\n",
    "reversed_sentence = reverse_words(input_sentence)\n",
    "print(reversed_sentence)\n"
   ]
  },
  {
   "cell_type": "markdown",
   "id": "dcf921c7-f14c-4966-9386-29cacb476f0e",
   "metadata": {},
   "source": [
    "38. Implement a function to find the missing number in a given list of consecutive numbers."
   ]
  },
  {
   "cell_type": "code",
   "execution_count": 9,
   "id": "5c23be4f-e292-4a41-9e52-70adae1450eb",
   "metadata": {},
   "outputs": [
    {
     "name": "stdout",
     "output_type": "stream",
     "text": [
      "4\n"
     ]
    }
   ],
   "source": [
    "def find_missing_number(numbers):\n",
    "    n = len(numbers) + 1\n",
    "    expected_sum = (n * (n + 1)) // 2\n",
    "    actual_sum = sum(numbers)\n",
    "    missing_number = expected_sum - actual_sum\n",
    "    return missing_number\n",
    "\n",
    "\n",
    "input_numbers = [1, 2, 3, 5, 6, 7, 8, 9]\n",
    "missing_number = find_missing_number(input_numbers)\n",
    "print(missing_number)\n"
   ]
  },
  {
   "cell_type": "markdown",
   "id": "f69f28df-42fc-44fe-b646-1ed2c1911386",
   "metadata": {},
   "source": [
    "39. Write a program to find the sum of digits of a given number."
   ]
  },
  {
   "cell_type": "code",
   "execution_count": 15,
   "id": "9dd398bc-0776-4b8b-b1d1-e7555ab3d831",
   "metadata": {},
   "outputs": [
    {
     "data": {
      "text/plain": [
       "8"
      ]
     },
     "execution_count": 15,
     "metadata": {},
     "output_type": "execute_result"
    }
   ],
   "source": [
    "def sum_digits(n : int)->int:\n",
    "    s = 0\n",
    "    while n>0:\n",
    "        s=s+n%10\n",
    "        n=n//10\n",
    "    return s\n",
    "\n",
    "n = 125\n",
    "sum_digits(n)"
   ]
  },
  {
   "cell_type": "markdown",
   "id": "734fbcab-8f24-4e6b-991c-50b5583d184f",
   "metadata": {},
   "source": [
    "40. Implement a function to check if a given string is a valid palindrome considering case sensitivity."
   ]
  },
  {
   "cell_type": "code",
   "execution_count": 10,
   "id": "8c7df27f-47b8-427d-9a77-d62a0b8e07a1",
   "metadata": {},
   "outputs": [
    {
     "name": "stdout",
     "output_type": "stream",
     "text": [
      "True\n"
     ]
    }
   ],
   "source": [
    "def is_valid_palindrome(string):\n",
    "  \n",
    "    alphanumeric = [char.lower() for char in string if char.isalnum()]\n",
    "\n",
    "   \n",
    "    return alphanumeric == alphanumeric[::-1]\n",
    "\n",
    "\n",
    "input_string = \"A man, a plan, a canal: Panama\"\n",
    "is_palindrome = is_valid_palindrome(input_string)\n",
    "print(is_palindrome)\n"
   ]
  },
  {
   "cell_type": "markdown",
   "id": "99287395-c943-4410-be92-2cbfe7e524dd",
   "metadata": {},
   "source": [
    "41. Write a Python program to find the smallest missing positive integer in a list."
   ]
  },
  {
   "cell_type": "code",
   "execution_count": 11,
   "id": "f23b34ed-d62d-4416-b5ba-c85c59a3a8f1",
   "metadata": {},
   "outputs": [
    {
     "name": "stdout",
     "output_type": "stream",
     "text": [
      "2\n"
     ]
    }
   ],
   "source": [
    "def find_smallest_missing_positive(nums):\n",
    "    n = len(nums)\n",
    "\n",
    "    i = 0\n",
    "    while i < n:\n",
    "        if 1 <= nums[i] <= n and nums[i] != nums[nums[i] - 1]:\n",
    "            nums[nums[i] - 1], nums[i] = nums[i], nums[nums[i] - 1]\n",
    "        else:\n",
    "            i += 1\n",
    "\n",
    "    for i in range(n):\n",
    "        if nums[i] != i + 1:\n",
    "            return i + 1\n",
    "\n",
    "    return n + 1\n",
    "\n",
    "input_nums = [3, 4, -1, 1]\n",
    "smallest_missing = find_smallest_missing_positive(input_nums)\n",
    "print(smallest_missing)\n"
   ]
  },
  {
   "cell_type": "markdown",
   "id": "bdd46562-2ec9-46b2-935d-318be0a4e964",
   "metadata": {},
   "source": [
    "42. Implement a function to find the longest palindrome substring in a given string."
   ]
  },
  {
   "cell_type": "code",
   "execution_count": 13,
   "id": "aa80a4fa-dff7-4565-a098-fbcc465868d3",
   "metadata": {},
   "outputs": [
    {
     "name": "stdout",
     "output_type": "stream",
     "text": [
      "bab\n"
     ]
    }
   ],
   "source": [
    "def longest_palindrome(s):\n",
    "\n",
    "    def expand_around_center(s, left, right):\n",
    "        while left >= 0 and right < len(s) and s[left] == s[right]:\n",
    "            left -= 1\n",
    "            right += 1\n",
    "        return s[left+1:right]\n",
    "\n",
    "    longest = \"\"\n",
    "    for i in range(len(s)):\n",
    "   \n",
    "        palindrome_odd = expand_around_center(s, i, i)\n",
    "        if len(palindrome_odd) > len(longest):\n",
    "            longest = palindrome_odd\n",
    "\n",
    "        palindrome_even = expand_around_center(s, i, i + 1)\n",
    "        if len(palindrome_even) > len(longest):\n",
    "            longest = palindrome_even\n",
    "\n",
    "    return longest\n",
    "\n",
    "input_string = \"babad\"\n",
    "longest_palindrome_substr = longest_palindrome(input_string)\n",
    "print(longest_palindrome_substr)\n"
   ]
  },
  {
   "cell_type": "markdown",
   "id": "8f3b7bc6-c257-4398-8db4-7895f7f732c8",
   "metadata": {},
   "source": [
    "43. Write a program to find the number of occurrences of a given element in a list."
   ]
  },
  {
   "cell_type": "code",
   "execution_count": 12,
   "id": "a1bab318-3a92-4321-8d46-90a4a77c7b69",
   "metadata": {},
   "outputs": [
    {
     "name": "stdout",
     "output_type": "stream",
     "text": [
      "2\n"
     ]
    }
   ],
   "source": [
    "def count_occurrences(lst, element):\n",
    "    count = 0\n",
    "\n",
    "    for item in lst:\n",
    "        if item == element:\n",
    "            count += 1\n",
    "\n",
    "    return count\n",
    "\n",
    "\n",
    "input_list = [1, 2, 3, 2, 4, 1, 5, 6, 5]\n",
    "element = 2\n",
    "occurrences = count_occurrences(input_list, element)\n",
    "print(occurrences)\n"
   ]
  },
  {
   "cell_type": "markdown",
   "id": "348e0ccf-aeef-4d05-b54d-f82312803139",
   "metadata": {},
   "source": [
    "44. Implement a function to check if a given number is a perfect number."
   ]
  },
  {
   "cell_type": "code",
   "execution_count": 11,
   "id": "df44977b-05e1-4ec0-a48a-46b7fbd2b86d",
   "metadata": {},
   "outputs": [
    {
     "data": {
      "text/plain": [
       "True"
      ]
     },
     "execution_count": 11,
     "metadata": {},
     "output_type": "execute_result"
    }
   ],
   "source": [
    "def perfect(n : int)->bool:\n",
    "    s = 0\n",
    "    for i in range(1,(n//2)+1):\n",
    "        if n%i == 0:\n",
    "            s = s + i\n",
    "            \n",
    "    \n",
    "    if s == n:\n",
    "        return True\n",
    "    else:\n",
    "        return False\n",
    "\n",
    "n = 28\n",
    "perfect(n)"
   ]
  },
  {
   "cell_type": "markdown",
   "id": "b506839e-1073-4a21-b7b6-0bebd7a2eb89",
   "metadata": {},
   "source": [
    "45. Write a Python program to remove all duplicates from a string."
   ]
  },
  {
   "cell_type": "code",
   "execution_count": 42,
   "id": "2806c2d7-e70a-4b1e-984a-0eed9d8cc354",
   "metadata": {},
   "outputs": [
    {
     "name": "stdout",
     "output_type": "stream",
     "text": [
      "Helo, Wrd!\n"
     ]
    }
   ],
   "source": [
    "def remove_duplicates(string):\n",
    "    \n",
    "    unique_chars = set()\n",
    "    result = \"\"\n",
    "\n",
    "    for char in string:\n",
    "        if char not in unique_chars:\n",
    "            unique_chars.add(char)\n",
    "            result += char\n",
    "\n",
    "    return result\n",
    "input_string = \"Hello, World!\"\n",
    "result_string = remove_duplicates(input_string)\n",
    "print(result_string)\n"
   ]
  },
  {
   "cell_type": "markdown",
   "id": "6d7821f7-1325-4957-bd1e-b2fae6318eb6",
   "metadata": {},
   "source": [
    "46. Implement a function to find the first missing positive"
   ]
  },
  {
   "cell_type": "code",
   "execution_count": 41,
   "id": "79b8f399-c55e-4c46-8620-706560fd3c9b",
   "metadata": {},
   "outputs": [
    {
     "name": "stdout",
     "output_type": "stream",
     "text": [
      "2\n"
     ]
    }
   ],
   "source": [
    "def find_first_missing_positive(nums):\n",
    "    n = len(nums)\n",
    "\n",
    "    \n",
    "    for i in range(n):\n",
    "        if nums[i] <= 0:\n",
    "            nums[i] = n + 1\n",
    "\n",
    "    \n",
    "    for i in range(n):\n",
    "        num = abs(nums[i])\n",
    "        if num <= n:\n",
    "            nums[num - 1] = -abs(nums[num - 1])\n",
    "\n",
    "    \n",
    "    for i in range(n):\n",
    "        if nums[i] > 0:\n",
    "            return i + 1\n",
    "\n",
    "    \n",
    "    return n + 1\n",
    "\n",
    "\n",
    "numbers = [3, 4, -1, 1]\n",
    "first_missing = find_first_missing_positive(numbers)\n",
    "print(first_missing)\n"
   ]
  },
  {
   "cell_type": "code",
   "execution_count": null,
   "id": "3c9314a6-9889-4314-bfaf-ece13c750656",
   "metadata": {},
   "outputs": [],
   "source": []
  }
 ],
 "metadata": {
  "kernelspec": {
   "display_name": "Python 3 (ipykernel)",
   "language": "python",
   "name": "python3"
  },
  "language_info": {
   "codemirror_mode": {
    "name": "ipython",
    "version": 3
   },
   "file_extension": ".py",
   "mimetype": "text/x-python",
   "name": "python",
   "nbconvert_exporter": "python",
   "pygments_lexer": "ipython3",
   "version": "3.10.8"
  }
 },
 "nbformat": 4,
 "nbformat_minor": 5
}
