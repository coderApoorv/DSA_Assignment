{
 "cells": [
  {
   "cell_type": "markdown",
   "id": "b14eae3e-bf63-454a-a97e-bdefe50b2a5f",
   "metadata": {},
   "source": [
    "<aside>\n",
    "💡 **Q1.** Given an array of integers nums and an integer target, return indices of the two numbers such that they add up to target.\n",
    "\n",
    "You may assume that each input would have exactly one solution, and you may not use the same element twice.\n",
    "\n",
    "You can return the answer in any order.\n",
    "\n",
    "**Example:**\n",
    "Input: nums = [2,7,11,15], target = 9\n",
    "Output0 [0,1]\n",
    "\n",
    "**Explanation:** Because nums[0] + nums[1] == 9, we return [0, 1][\n",
    "\n",
    "</aside>"
   ]
  },
  {
   "cell_type": "code",
   "execution_count": 25,
   "id": "124ded37-2c12-42fa-8259-c62d0326b93e",
   "metadata": {},
   "outputs": [],
   "source": [
    "def two_sum(arr : list[int], i : int) -> list[int]:\n",
    "    o = []\n",
    "    for j in range(len(arr)):\n",
    "         for k in range(j+1,len(arr)):\n",
    "            if (arr[j]+arr[k] == i):\n",
    "                o.append([j,k])    \n",
    "    return o "
   ]
  },
  {
   "cell_type": "code",
   "execution_count": 26,
   "id": "839bd8e3-8c5f-41db-aec4-432b68cefe94",
   "metadata": {},
   "outputs": [
    {
     "data": {
      "text/plain": [
       "[[0, 1], [4, 5]]"
      ]
     },
     "execution_count": 26,
     "metadata": {},
     "output_type": "execute_result"
    }
   ],
   "source": [
    "nums = [2,7,11,15, 8,1]\n",
    "target = 9\n",
    "two_sum(nums, target)"
   ]
  },
  {
   "cell_type": "markdown",
   "id": "23096c0d-2610-41af-914b-d3c292b32c1a",
   "metadata": {},
   "source": [
    "<aside>\n",
    "💡 **Q2.** Given an integer array nums and an integer val, remove all occurrences of val in nums in-place. The order of the elements may be changed. Then return the number of elements in nums which are not equal to val.\n",
    "\n",
    "Consider the number of elements in nums which are not equal to val be k, to get accepted, you need to do the following things:\n",
    "\n",
    "- Change the array nums such that the first k elements of nums contain the elements which are not equal to val. The remaining elements of nums are not important as well as the size of nums.\n",
    "- Return k.\n",
    "\n",
    "**Example :**\n",
    "Input: nums = [3,2,2,3], val = 3\n",
    "Output: 2, nums = [2,2,_*,_*]\n",
    "\n",
    "**Explanation:** Your function should return k = 2, with the first two elements of nums being 2. It does not matter what you leave beyond the returned k (hence they are underscores)[\n",
    "\n",
    "</aside>"
   ]
  },
  {
   "cell_type": "code",
   "execution_count": 1,
   "id": "3900bdd9-4244-458a-a4d8-22dab7b2ddf3",
   "metadata": {},
   "outputs": [],
   "source": [
    "def remove_val(arr : list[int], val : int) -> list[int]:\n",
    "    k = 0\n",
    "    for i in range(len(arr)):\n",
    "        if (arr[i] == val):\n",
    "            arr.pop(i)\n",
    "            arr.append('_')\n",
    "        else:\n",
    "            k = k+1\n",
    "    return arr, k        "
   ]
  },
  {
   "cell_type": "code",
   "execution_count": 2,
   "id": "931e4fb7-6877-4017-bafa-0d3ebb5b3267",
   "metadata": {},
   "outputs": [
    {
     "data": {
      "text/plain": [
       "([2, 2, '_', '_'], 2)"
      ]
     },
     "execution_count": 2,
     "metadata": {},
     "output_type": "execute_result"
    }
   ],
   "source": [
    "nums = [3,2,2,3]\n",
    "val = 3\n",
    "remove_val(nums, val)"
   ]
  },
  {
   "cell_type": "markdown",
   "id": "c5894b5b-3bec-44e2-a3c9-c2e363481ba3",
   "metadata": {},
   "source": [
    "<aside>\n",
    "💡 **Q3.** Given a sorted array of distinct integers and a target value, return the index if the target is found. If not, return the index where it would be if it were inserted in order.\n",
    "\n",
    "You must write an algorithm with O(log n) runtime complexity.\n",
    "\n",
    "**Example 1:**\n",
    "Input: nums = [1,3,5,6], target = 5\n",
    "\n",
    "Output: 2\n",
    "\n",
    "</aside>"
   ]
  },
  {
   "cell_type": "code",
   "execution_count": 20,
   "id": "a5d72b51-1d1e-4297-b9d8-7966956a584d",
   "metadata": {},
   "outputs": [],
   "source": [
    "def return_index(nums : list[int], target : int, mini : int, maxi : int) -> int:\n",
    "    mid = int((mini + maxi)/2)\n",
    "    if maxi>=mini:\n",
    "        if (nums[mid] > target):\n",
    "            return return_index(nums, target, mini, mid-1)\n",
    "        elif (nums[mid] < target):\n",
    "            return return_index(nums, target, mid+1, maxi)\n",
    "        else:\n",
    "            return mid\n",
    "    else:\n",
    "        return mid+1"
   ]
  },
  {
   "cell_type": "code",
   "execution_count": 22,
   "id": "ba12eece-15eb-46da-805e-036b0727d5c4",
   "metadata": {},
   "outputs": [
    {
     "data": {
      "text/plain": [
       "3"
      ]
     },
     "execution_count": 22,
     "metadata": {},
     "output_type": "execute_result"
    }
   ],
   "source": [
    "nums = [1,3,4,6,6]\n",
    "target = 5\n",
    "return_index(nums, target, 0, len(nums)-1)"
   ]
  },
  {
   "cell_type": "markdown",
   "id": "24a6b205-c0a6-472d-8cf0-fe628d3da7cd",
   "metadata": {},
   "source": [
    "<aside>\n",
    "💡 **Q4.** You are given a large integer represented as an integer array digits, where each digits[i] is the ith digit of the integer. The digits are ordered from most significant to least significant in left-to-right order. The large integer does not contain any leading 0's.\n",
    "\n",
    "Increment the large integer by one and return the resulting array of digits.\n",
    "\n",
    "**Example 1:**\n",
    "Input: digits = [1,2,3]\n",
    "Output: [1,2,4]\n",
    "\n",
    "**Explanation:** The array represents the integer 123.\n",
    "\n",
    "Incrementing by one gives 123 + 1 = 124.\n",
    "Thus, the result should be [1,2,4].\n",
    "\n",
    "</aside>"
   ]
  },
  {
   "cell_type": "code",
   "execution_count": 37,
   "id": "99b27e83-22d8-4943-97fe-0189bcfc2de1",
   "metadata": {},
   "outputs": [],
   "source": [
    "def increment(arr):\n",
    "    arr[arr.index(max(arr))] = arr[arr.index(max(arr))]+1    \n",
    "    return arr"
   ]
  },
  {
   "cell_type": "code",
   "execution_count": 39,
   "id": "8b6c6303-dee6-41f5-97ce-31ea27663543",
   "metadata": {},
   "outputs": [
    {
     "data": {
      "text/plain": [
       "[1, 10, 3, 4]"
      ]
     },
     "execution_count": 39,
     "metadata": {},
     "output_type": "execute_result"
    }
   ],
   "source": [
    "digit = [1,9,3,4]\n",
    "increment(digit)"
   ]
  },
  {
   "cell_type": "markdown",
   "id": "033a409d-477e-47a6-9533-232cd919b02c",
   "metadata": {},
   "source": [
    "<aside>\n",
    "💡 **Q5.** You are given two integer arrays nums1 and nums2, sorted in non-decreasing order, and two integers m and n, representing the number of elements in nums1 and nums2 respectively.\n",
    "\n",
    "Merge nums1 and nums2 into a single array sorted in non-decreasing order.\n",
    "\n",
    "The final sorted array should not be returned by the function, but instead be stored inside the array nums1. To accommodate this, nums1 has a length of m + n, where the first m elements denote the elements that should be merged, and the last n elements are set to 0 and should be ignored. nums2 has a length of n.\n",
    "\n",
    "**Example 1:**\n",
    "Input: nums1 = [1,2,3,0,0,0], m = 3, nums2 = [2,5,6], n = 3\n",
    "Output: [1,2,2,3,5,6]\n",
    "\n",
    "**Explanation:** The arrays we are merging are [1,2,3] and [2,5,6].\n",
    "The result of the merge is [1,2,2,3,5,6] with the underlined elements coming from nums1.\n",
    "\n",
    "</aside>"
   ]
  },
  {
   "cell_type": "code",
   "execution_count": 25,
   "id": "6adab634-fac8-475e-a85d-ac2e4ceb88a5",
   "metadata": {},
   "outputs": [],
   "source": [
    "def merge(nums1, m, nums2, n):\n",
    "    \n",
    "    p1 = m - 1\n",
    "    p2 = n - 1\n",
    "    p = m + n - 1\n",
    "    \n",
    "    while p1 >= 0 and p2 >= 0:\n",
    "        if nums1[p1] >= nums2[p2]:\n",
    "            nums1[p] = nums1[p1]\n",
    "            p1 -= 1\n",
    "        else:\n",
    "            nums1[p] = nums2[p2]\n",
    "            p2 -= 1\n",
    "        p -= 1\n",
    "    \n",
    "    while p2 >= 0:\n",
    "        nums1[p] = nums2[p2]\n",
    "        p2 -= 1\n",
    "        p -= 1"
   ]
  },
  {
   "cell_type": "code",
   "execution_count": 26,
   "id": "5e973362-b917-460f-8364-6006b541e3ee",
   "metadata": {},
   "outputs": [
    {
     "name": "stdout",
     "output_type": "stream",
     "text": [
      "[1, 2, 2, 3, 5, 6]\n"
     ]
    }
   ],
   "source": [
    "nums1 = [1, 2, 3, 0, 0, 0]\n",
    "m = 3\n",
    "nums2 = [2, 5, 6]\n",
    "n = 3\n",
    "\n",
    "merge(nums1, m, nums2, n)\n",
    "print(nums1)"
   ]
  },
  {
   "cell_type": "markdown",
   "id": "3f1aa547-6f55-4215-a33d-ec3b14d88b5c",
   "metadata": {},
   "source": [
    "<aside>\n",
    "💡 **Q6.** Given an integer array nums, return true if any value appears at least twice in the array, and return false if every element is distinct.\n",
    "\n",
    "**Example 1:**\n",
    "Input: nums = [1,2,3,1]\n",
    "\n",
    "Output: true\n",
    "\n",
    "</aside>"
   ]
  },
  {
   "cell_type": "code",
   "execution_count": 7,
   "id": "12902637-fd5d-4f5a-99a2-d5f3a011cba3",
   "metadata": {},
   "outputs": [],
   "source": [
    "def duplicate(arr:list[int])->bool:\n",
    "    seen = []\n",
    "    for i in arr:\n",
    "        if i in seen:\n",
    "            return True\n",
    "        seen.append(i)\n",
    "    return False"
   ]
  },
  {
   "cell_type": "code",
   "execution_count": 8,
   "id": "c881b399-94f2-4955-b697-cb5578bbfed3",
   "metadata": {},
   "outputs": [
    {
     "data": {
      "text/plain": [
       "True"
      ]
     },
     "execution_count": 8,
     "metadata": {},
     "output_type": "execute_result"
    }
   ],
   "source": [
    "nums = [1,2,3,1]\n",
    "duplicate(nums)"
   ]
  },
  {
   "cell_type": "markdown",
   "id": "606c70da-f2ce-4cc1-8964-d837a42a773f",
   "metadata": {},
   "source": [
    "<aside>\n",
    "💡 **Q7.** Given an integer array nums, move all 0's to the end of it while maintaining the relative order of the nonzero elements.\n",
    "\n",
    "Note that you must do this in-place without making a copy of the array.\n",
    "\n",
    "**Example 1:**\n",
    "Input: nums = [0,1,0,3,12]\n",
    "Output: [1,3,12,0,0]\n",
    "\n",
    "</aside>"
   ]
  },
  {
   "cell_type": "code",
   "execution_count": 51,
   "id": "cfd98739-bf89-44cc-88dd-7b07dbd59d8e",
   "metadata": {},
   "outputs": [],
   "source": [
    "def array_zero(arr : list[int]) -> list[int]:\n",
    "    for i in range(len(arr)-1):\n",
    "        if arr[i] == 0:\n",
    "            arr.pop(i)\n",
    "            arr.append(0)\n",
    "    return arr        "
   ]
  },
  {
   "cell_type": "code",
   "execution_count": 52,
   "id": "93120565-193a-487c-9991-7cf51ed649b4",
   "metadata": {},
   "outputs": [
    {
     "data": {
      "text/plain": [
       "[1, 3, 12, 0, 0]"
      ]
     },
     "execution_count": 52,
     "metadata": {},
     "output_type": "execute_result"
    }
   ],
   "source": [
    "nums = [0,1,0,3,12]\n",
    "array_zero(nums)"
   ]
  },
  {
   "cell_type": "markdown",
   "id": "0033ad83-9216-4df2-8fc1-02a1f682fb68",
   "metadata": {},
   "source": [
    "<aside>\n",
    "💡 **Q8.** You have a set of integers s, which originally contains all the numbers from 1 to n. Unfortunately, due to some error, one of the numbers in s got duplicated to another number in the set, which results in repetition of one number and loss of another number.\n",
    "\n",
    "You are given an integer array nums representing the data status of this set after the error.\n",
    "\n",
    "Find the number that occurs twice and the number that is missing and return them in the form of an array.\n",
    "\n",
    "**Example 1:**\n",
    "Input: nums = [1,2,2,4]\n",
    "Output: [2,3]\n",
    "\n",
    "</aside>"
   ]
  },
  {
   "cell_type": "code",
   "execution_count": 21,
   "id": "c411f9c8-6678-4714-affe-9cb042aed6d5",
   "metadata": {},
   "outputs": [],
   "source": [
    "def return_array(arr:list[int])->list[int]:\n",
    "    seen = []\n",
    "    d = 0\n",
    "    for i in arr:\n",
    "        if i in seen:\n",
    "            d =  i\n",
    "        seen.append(i)\n",
    "    n = len(arr)\n",
    "    expected_sum = n*(n+1)//2\n",
    "    actual_sum = sum(arr)\n",
    "    missing = expected_sum - actual_sum + d\n",
    "    return [d,missing]\n",
    "        \n",
    "        \n",
    "    "
   ]
  },
  {
   "cell_type": "code",
   "execution_count": 22,
   "id": "1fc54bc8-1416-49ed-9bdb-1716b521d89e",
   "metadata": {},
   "outputs": [
    {
     "data": {
      "text/plain": [
       "[2, 3]"
      ]
     },
     "execution_count": 22,
     "metadata": {},
     "output_type": "execute_result"
    }
   ],
   "source": [
    "nums = [1,2,2,4]\n",
    "return_array(nums)"
   ]
  },
  {
   "cell_type": "code",
   "execution_count": null,
   "id": "4d554a65-2797-452a-98a2-ba1895ba2775",
   "metadata": {},
   "outputs": [],
   "source": []
  }
 ],
 "metadata": {
  "kernelspec": {
   "display_name": "Python 3 (ipykernel)",
   "language": "python",
   "name": "python3"
  },
  "language_info": {
   "codemirror_mode": {
    "name": "ipython",
    "version": 3
   },
   "file_extension": ".py",
   "mimetype": "text/x-python",
   "name": "python",
   "nbconvert_exporter": "python",
   "pygments_lexer": "ipython3",
   "version": "3.10.8"
  }
 },
 "nbformat": 4,
 "nbformat_minor": 5
}
