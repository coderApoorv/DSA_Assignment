{
 "cells": [
  {
   "cell_type": "markdown",
   "id": "d06fa0ab-c1bc-4629-b70c-554ed4a13b54",
   "metadata": {},
   "source": [
    "1. Scenario: A company wants to analyze the sales performance of its products in different regions. They have collected the following data:\n",
    "   Region A: [10, 15, 12, 8, 14]\n",
    "   Region B: [18, 20, 16, 22, 25]\n",
    "   Calculate the mean sales for each region.\n"
   ]
  },
  {
   "cell_type": "code",
   "execution_count": 2,
   "id": "1cf22e5a-a051-43f8-917d-420dba6cabba",
   "metadata": {},
   "outputs": [],
   "source": [
    "A = [10, 15, 12, 8, 14]\n",
    "B = [18, 20, 16, 22, 25]"
   ]
  },
  {
   "cell_type": "code",
   "execution_count": 3,
   "id": "09059d02-176b-4b1a-861a-aaca7d3175e4",
   "metadata": {},
   "outputs": [
    {
     "name": "stdout",
     "output_type": "stream",
     "text": [
      "Mean of A 11.8\n",
      "Mean of B 20.2\n"
     ]
    }
   ],
   "source": [
    "import numpy as np\n",
    "print(\"Mean of A\",np.mean(A))\n",
    "print(\"Mean of B\",np.mean(B))"
   ]
  },
  {
   "cell_type": "markdown",
   "id": "7d36cb80-5b2d-46ce-8df8-44768d5b0c1e",
   "metadata": {},
   "source": [
    "2. Scenario: A survey is conducted to measure customer satisfaction on a scale of 1 to 5. The data collected is as follows:\n",
    "   [4, 5, 2, 3, 5, 4, 3, 2, 4, 5]\n",
    "   Calculate the mode of the survey responses.\n"
   ]
  },
  {
   "cell_type": "code",
   "execution_count": 4,
   "id": "74ea7fe8-2d9f-449f-a0c8-2a3cf9e62fbe",
   "metadata": {},
   "outputs": [
    {
     "data": {
      "text/plain": [
       "4"
      ]
     },
     "execution_count": 4,
     "metadata": {},
     "output_type": "execute_result"
    }
   ],
   "source": [
    "import statistics\n",
    "statistics.mode([4, 5, 2, 3, 5, 4, 3, 2, 4, 5])"
   ]
  },
  {
   "cell_type": "markdown",
   "id": "f3498d82-06ed-486c-ad65-f4c684461447",
   "metadata": {},
   "source": [
    "3. Scenario: A company wants to compare the salaries of two departments. The salary data for Department A and Department B are as follows:\n",
    "   Department A: [5000, 6000, 5500, 7000]\n",
    "   Department B: [4500, 5500, 5800, 6000, 5200]\n",
    "   Calculate the median salary for each department.\n"
   ]
  },
  {
   "cell_type": "code",
   "execution_count": 13,
   "id": "36d16d2d-83e2-4e08-8d66-685e1af72ba4",
   "metadata": {},
   "outputs": [
    {
     "name": "stdout",
     "output_type": "stream",
     "text": [
      "Median for A: 5750.0\n",
      "Median for B: 5500\n"
     ]
    }
   ],
   "source": [
    "A = [5000, 6000, 5500, 7000]\n",
    "B= [4500, 5500, 5800, 6000, 5200]\n",
    "print('Median for A:',np.median(A))\n",
    "print('Median for B:',statistics.median(B))"
   ]
  },
  {
   "cell_type": "markdown",
   "id": "1d35c4df-b9d8-453b-9c81-667e4828d9c8",
   "metadata": {},
   "source": [
    "4. Scenario: A data analyst wants to determine the variability in the daily stock prices of a company. The data collected is as follows:\n",
    "   [25.5, 24.8, 26.1, 25.3, 24.9]\n",
    "   Calculate the range of the stock prices.\n"
   ]
  },
  {
   "cell_type": "code",
   "execution_count": 45,
   "id": "21e428c1-a133-441a-9c5d-255d3fa1853b",
   "metadata": {},
   "outputs": [
    {
     "data": {
      "text/plain": [
       "1.3000000000000007"
      ]
     },
     "execution_count": 45,
     "metadata": {},
     "output_type": "execute_result"
    }
   ],
   "source": [
    "x = [25.5, 24.8, 26.1, 25.3, 24.9]\n",
    "range_sp = max(x)-min(x)\n",
    "range_sp"
   ]
  },
  {
   "cell_type": "markdown",
   "id": "3d6c6d9d-f8d8-4f60-a97c-e77f2d67eae1",
   "metadata": {},
   "source": [
    "5. Scenario: A study is conducted to compare the performance of two different teaching methods. The test scores of the students in each group are as follows:\n",
    "   Group A: [85, 90, 92, 88, 91]\n",
    "   Group B: [82, 88, 90, 86, 87]\n",
    "   Perform a t-test to determine if there is a significant difference in the mean scores between the two groups.\n"
   ]
  },
  {
   "cell_type": "code",
   "execution_count": 34,
   "id": "43705a12-22ae-4019-8fa0-cb7ea9b1fbba",
   "metadata": {},
   "outputs": [
    {
     "data": {
      "text/plain": [
       "Ttest_indResult(statistic=1.4312528946642733, pvalue=0.19023970239078333)"
      ]
     },
     "execution_count": 34,
     "metadata": {},
     "output_type": "execute_result"
    }
   ],
   "source": [
    "a = [85, 90, 92, 88, 91]\n",
    "b = [82, 88, 90, 86, 87]\n",
    "import scipy.stats as stats\n",
    "stats.ttest_ind(a, b, equal_var=True)"
   ]
  },
  {
   "cell_type": "markdown",
   "id": "2e82f665-fabf-4b36-9a5a-cb576d51ea83",
   "metadata": {},
   "source": [
    "since pvalue is greater than 0.05 hence we can say there is no significant difference in the mean scores between two groups"
   ]
  },
  {
   "cell_type": "markdown",
   "id": "56316be8-4de9-4ddb-96d0-175944296167",
   "metadata": {},
   "source": [
    "6. Scenario: A company wants to analyze the relationship between advertising expenditure and sales. The data collected is as follows:\n",
    "   Advertising Expenditure (in thousands): [10, 15, 12, 8, 14]\n",
    "   Sales (in thousands): [25, 30, 28, 20, 26]\n",
    "   Calculate the correlation coefficient between advertising expenditure and sales.\n"
   ]
  },
  {
   "cell_type": "code",
   "execution_count": 7,
   "id": "7ef55bb8-5fcc-4ad6-8956-1bdd81aae9ac",
   "metadata": {},
   "outputs": [
    {
     "name": "stdout",
     "output_type": "stream",
     "text": [
      "[[1.         0.87575114]\n",
      " [0.87575114 1.        ]]\n"
     ]
    }
   ],
   "source": [
    "print(np.corrcoef([10, 15, 12, 8, 14], [25, 30, 28, 20, 26]))\n"
   ]
  },
  {
   "cell_type": "markdown",
   "id": "17c75576-29c5-4e82-b040-fe519f2ea238",
   "metadata": {},
   "source": [
    "7. Scenario: A survey is conducted to measure the heights of a group of people. The data collected is as follows:\n",
    "   [160, 170, 165, 155, 175, 180, 170]\n",
    "   Calculate the standard deviation of the heights.\n"
   ]
  },
  {
   "cell_type": "code",
   "execution_count": 6,
   "id": "e986fb6e-aa87-4e36-b3a7-6fcc26b20aae",
   "metadata": {},
   "outputs": [
    {
     "data": {
      "text/plain": [
       "7.953949089757174"
      ]
     },
     "execution_count": 6,
     "metadata": {},
     "output_type": "execute_result"
    }
   ],
   "source": [
    "np.std([160, 170, 165, 155, 175, 180, 170])"
   ]
  },
  {
   "cell_type": "markdown",
   "id": "80291cae-86dc-4aa2-aec6-99465f91f54b",
   "metadata": {},
   "source": [
    "8. Scenario: A company wants to analyze the relationship between employee tenure and job satisfaction. The data collected is as follows:\n",
    "   Employee Tenure (in years): [2, 3, 5, 4, 6, 2, 4]\n",
    "   Job Satisfaction (on a scale of 1 to 10): [7, 8, 6, 9, 5, 7, 6]\n",
    "   Perform a linear regression analysis to predict job satisfaction based on employee tenure.\n"
   ]
  },
  {
   "cell_type": "code",
   "execution_count": 32,
   "id": "53fa662a-67d1-4ca9-8946-a51105dda6ab",
   "metadata": {},
   "outputs": [
    {
     "data": {
      "text/plain": [
       "array([8.12765957])"
      ]
     },
     "execution_count": 32,
     "metadata": {},
     "output_type": "execute_result"
    }
   ],
   "source": [
    "from sklearn.linear_model import LinearRegression\n",
    "import pandas as pd\n",
    "r = LinearRegression()\n",
    "x =  [2, 3, 5, 4, 6, 2, 4] \n",
    "y =  [7, 8, 6, 9, 5, 7, 6]\n",
    "x = pd.DataFrame(x)\n",
    "\n",
    "r.fit(x,y)\n",
    "r.predict([[1]])"
   ]
  },
  {
   "cell_type": "markdown",
   "id": "579c5130-6e77-4894-8fda-e3d4bbd2f1c4",
   "metadata": {},
   "source": [
    "9. Scenario: A study is conducted to compare the effectiveness of two different medications. The recovery times of the patients in each group are as follows:\n",
    "   Medication A: [10, 12, 14, 11, 13]\n",
    "   Medication B: [15, 17, 16, 14, 18]\n",
    "   Perform an analysis of variance (ANOVA) to determine if there is a significant difference in the mean recovery times between the two medications.\n"
   ]
  },
  {
   "cell_type": "code",
   "execution_count": 33,
   "id": "e4edab69-0517-4c52-a606-e0ecc52c54ae",
   "metadata": {},
   "outputs": [
    {
     "data": {
      "text/plain": [
       "F_onewayResult(statistic=16.0, pvalue=0.003949772803445326)"
      ]
     },
     "execution_count": 33,
     "metadata": {},
     "output_type": "execute_result"
    }
   ],
   "source": [
    "from scipy.stats import f_oneway\n",
    "\n",
    "a = [10, 12, 14, 11, 13]\n",
    "b = [15, 17, 16, 14, 18]\n",
    "\n",
    "f_oneway(a,b)\n"
   ]
  },
  {
   "cell_type": "markdown",
   "id": "b82e6238-3f50-4ccd-87b8-2e6abccf2e97",
   "metadata": {},
   "source": [
    "Since pvalue is less than .05 hence there is a significant difference between two medications"
   ]
  },
  {
   "cell_type": "markdown",
   "id": "b0f242da-1cbd-4312-a4f6-32bdab9a929b",
   "metadata": {},
   "source": [
    "\n",
    "10. Scenario: A company wants to analyze customer feedback ratings on a scale of 1 to 10. The data collected is\n",
    "\n",
    " as follows:\n",
    "    [8, 9, 7, 6, 8, 10, 9, 8, 7, 8]\n",
    "    Calculate the 75th percentile of the feedback ratings.\n"
   ]
  },
  {
   "cell_type": "code",
   "execution_count": 30,
   "id": "4f92c3a0-1de3-4284-812c-6c6ea30d90f3",
   "metadata": {},
   "outputs": [
    {
     "data": {
      "text/plain": [
       "8.75"
      ]
     },
     "execution_count": 30,
     "metadata": {},
     "output_type": "execute_result"
    }
   ],
   "source": [
    "import numpy as np\n",
    "x =  [8, 9, 7, 6, 8, 10, 9, 8, 7, 8]\n",
    "q3 = np.quantile(x,.75)\n",
    "q3"
   ]
  },
  {
   "cell_type": "markdown",
   "id": "a1444ed1-50c8-4fd8-8d39-9e8a9b39b186",
   "metadata": {},
   "source": [
    "11. Scenario: A quality control department wants to test the weight consistency of a product. The weights of a sample of products are as follows:\n",
    "    [10.2, 9.8, 10.0, 10.5, 10.3, 10.1]\n",
    "    Perform a hypothesis test to determine if the mean weight differs significantly from 10 grams.\n"
   ]
  },
  {
   "cell_type": "code",
   "execution_count": 38,
   "id": "ba80b534-2ced-44fd-8e32-101a68503b8c",
   "metadata": {},
   "outputs": [
    {
     "name": "stdout",
     "output_type": "stream",
     "text": [
      "1.5126584522688367 0.19077595151110102\n"
     ]
    }
   ],
   "source": [
    "import scipy.stats as stats\n",
    "data =  [10.2, 9.8, 10.0, 10.5, 10.3, 10.1]\n",
    "t_statistic, p_value = stats.ttest_1samp(a=data, popmean=10)\n",
    "print(t_statistic , p_value)\n"
   ]
  },
  {
   "cell_type": "markdown",
   "id": "a84abc86-7384-4ebe-b2df-9d2d18b9f1a3",
   "metadata": {},
   "source": [
    "since pvalue is greater than 0.05 hence the mean weight do not differs significantly from 10 grams."
   ]
  },
  {
   "cell_type": "markdown",
   "id": "a4599596-fe2c-4a72-a59b-1a3398ab2af0",
   "metadata": {},
   "source": [
    "12. Scenario: A company wants to analyze the click-through rates of two different website designs. The number of clicks for each design is as follows:\n",
    "    Design A: [100, 120, 110, 90, 95]\n",
    "    Design B: [80, 85, 90, 95, 100]\n",
    "    Perform a chi-square test to determine if there is a significant difference in the click-through rates between the two designs.\n"
   ]
  },
  {
   "cell_type": "code",
   "execution_count": 41,
   "id": "6c9a2fb9-4db9-4a1b-b246-ec3b51827019",
   "metadata": {},
   "outputs": [
    {
     "data": {
      "text/plain": [
       "1.0"
      ]
     },
     "execution_count": 41,
     "metadata": {},
     "output_type": "execute_result"
    }
   ],
   "source": [
    "from scipy.stats import chi2_contingency\n",
    "A = [100, 120, 110, 90, 95]\n",
    "B = [80, 85, 90, 95, 100]\n",
    "stat, p, dof, expected = chi2_contingency(A,B)\n",
    "p"
   ]
  },
  {
   "cell_type": "markdown",
   "id": "18dfe618-935d-4470-b696-71fa7434e810",
   "metadata": {},
   "source": [
    "since pvalue is greater than 0.05 hence there is no significant difference in the click-through rates between the two designs."
   ]
  },
  {
   "cell_type": "markdown",
   "id": "367a391b-6543-4377-89d4-9480e3c11d65",
   "metadata": {},
   "source": [
    "13. Scenario: A survey is conducted to measure customer satisfaction with a product on a scale of 1 to 10. The data collected is as follows:\n",
    "    [7, 9, 6, 8, 10, 7, 8, 9, 7, 8]\n",
    "    Calculate the 95% confidence interval for the population mean satisfaction score.\n"
   ]
  },
  {
   "cell_type": "code",
   "execution_count": 44,
   "id": "440653da-2f2e-4c10-9df6-17c7e985f5e1",
   "metadata": {},
   "outputs": [
    {
     "data": {
      "text/plain": [
       "(7.043561120599888, 8.756438879400113)"
      ]
     },
     "execution_count": 44,
     "metadata": {},
     "output_type": "execute_result"
    }
   ],
   "source": [
    "import numpy as np\n",
    "import scipy.stats as st\n",
    "data = [7, 9, 6, 8, 10, 7, 8, 9, 7, 8]\n",
    "st.t.interval(0.95, df=len(data)-1,\n",
    "\t\t\tloc=np.mean(data),\n",
    "\t\t\tscale=st.sem(data))\n"
   ]
  },
  {
   "cell_type": "markdown",
   "id": "aa5e835f-569f-4d7c-8e8e-0c00636dd2ac",
   "metadata": {},
   "source": [
    "14. Scenario: A company wants to analyze the effect of temperature on product performance. The data collected is as follows:\n",
    "    Temperature (in degrees Celsius): [20, 22, 23, 19, 21]\n",
    "    Performance (on a scale of 1 to 10): [8, 7, 9, 6, 8]\n",
    "    Perform a simple linear regression to predict performance based on temperatur\n"
   ]
  },
  {
   "cell_type": "code",
   "execution_count": 26,
   "id": "99c880c3-bc76-4db6-8989-e789aa898350",
   "metadata": {},
   "outputs": [
    {
     "data": {
      "text/plain": [
       "array([7.6])"
      ]
     },
     "execution_count": 26,
     "metadata": {},
     "output_type": "execute_result"
    }
   ],
   "source": [
    "from sklearn.linear_model import LinearRegression\n",
    "import pandas as pd\n",
    "r = LinearRegression()\n",
    "x =  [20, 22, 23, 19, 21]\n",
    "y = [8, 7, 9, 6, 8]\n",
    "x = pd.DataFrame(x)\n",
    "\n",
    "r.fit(x,y)\n",
    "r.predict([[21]])"
   ]
  },
  {
   "cell_type": "markdown",
   "id": "b65a0178-80c2-4af6-9b18-8fa45e011df4",
   "metadata": {},
   "source": [
    "\n",
    "15. Scenario: A study is conducted to compare the preferences of two groups of participants. The preferences are measured on a Likert scale from 1 to 5. The data collected is as follows:\n",
    "    Group A: [4, 3, 5, 2, 4]\n",
    "    Group B: [3, 2, 4, 3, 3]\n",
    "    Perform a Mann-Whitney U test to determine if there is a significant difference in the median preferences between the two groups.\n"
   ]
  },
  {
   "cell_type": "code",
   "execution_count": 37,
   "id": "75750671-2d44-4e43-a2c2-34a7908bfba1",
   "metadata": {},
   "outputs": [
    {
     "name": "stdout",
     "output_type": "stream",
     "text": [
      "Statistics=17.00, p=0.38\n",
      "Do not Reject Null Hypothesis (No significant difference between two samples)\n"
     ]
    }
   ],
   "source": [
    "from scipy.stats import mannwhitneyu\n",
    "batch_1 =  [4, 3, 5, 2, 4]\n",
    "batch_2 = [3, 2, 4, 3, 3]\n",
    "stat, p_value = mannwhitneyu(batch_1, batch_2)\n",
    "print('Statistics=%.2f, p=%.2f' % (stat, p_value))\n",
    "alpha = 0.05\n",
    "if p_value < alpha:\n",
    "\tprint('Reject Null Hypothesis (Significant difference between two samples)')\n",
    "else:\n",
    "\tprint('Do not Reject Null Hypothesis (No significant difference between two samples)')\n"
   ]
  },
  {
   "cell_type": "markdown",
   "id": "4e4986d6-ccf4-42bc-9af0-81afac0c534a",
   "metadata": {},
   "source": [
    "16. Scenario: A company wants to analyze the distribution of customer ages. The data collected is as follows:\n",
    "    [25, 30, 35, 40, 45, 50, 55, 60, 65, 70]\n",
    "    Calculate the interquartile range (IQR) of the ages.\n"
   ]
  },
  {
   "cell_type": "code",
   "execution_count": 12,
   "id": "1f6ec060-aa6a-4501-94b7-dddfdbf13a3f",
   "metadata": {},
   "outputs": [
    {
     "name": "stdout",
     "output_type": "stream",
     "text": [
      "22.5\n"
     ]
    }
   ],
   "source": [
    "x = [25, 30, 35, 40, 45, 50, 55, 60, 65, 70]\n",
    "q1 = np.quantile(x,.25)\n",
    "q3 = np.quantile(x,.75)\n",
    "iqr = q3-q1\n",
    "print(iqr)"
   ]
  },
  {
   "cell_type": "markdown",
   "id": "5578a9eb-c7c6-40c2-b2ec-7736ba26bf8c",
   "metadata": {},
   "source": [
    "17. Scenario: A study is conducted to compare the performance of three different machine learning algorithms. The accuracy scores for each algorithm are as follows:\n",
    "    Algorithm A: [0.85, 0.80, 0.82, 0.87, 0.83]\n",
    "    Algorithm B: [0.78, 0.82, 0.84, 0.80, 0.79]\n",
    "    Algorithm C: [0.90, 0.88, 0.89, 0.86, 0.87]\n",
    "    Perform a Kruskal-Wallis test to determine if there is a significant difference in the median accuracy scores between the algorithms.\n"
   ]
  },
  {
   "cell_type": "code",
   "execution_count": 36,
   "id": "568e4bab-ff41-422a-9283-d67298e49380",
   "metadata": {},
   "outputs": [
    {
     "name": "stdout",
     "output_type": "stream",
     "text": [
      "KruskalResult(statistic=9.696947935368053, pvalue=0.007840333026249539)\n"
     ]
    }
   ],
   "source": [
    "from scipy import stats\n",
    "A = [0.85, 0.80, 0.82, 0.87, 0.83]\n",
    "B = [0.78, 0.82, 0.84, 0.80, 0.79]\n",
    "C = [0.90, 0.88, 0.89, 0.86, 0.87]\n",
    "result = stats.kruskal(A,B,C)\n",
    "print(result)\n"
   ]
  },
  {
   "cell_type": "markdown",
   "id": "4f3d399a-32a4-4c78-8932-a8bcf90c699a",
   "metadata": {},
   "source": [
    "since pvalue is less than 0.05 there is a significant difference in the median accuracy scores between the algorithms."
   ]
  },
  {
   "cell_type": "markdown",
   "id": "594ba368-19a6-4980-a411-42c7b2872c7b",
   "metadata": {},
   "source": [
    "18. Scenario: A company wants to analyze the effect of price on sales. The data collected is as follows:\n",
    "    Price (in dollars): [10, 15, 12, 8, 14]\n",
    "    Sales: [100, 80, 90, 110, 95]\n",
    "    Perform a simple linear regression to predict\n",
    "\n",
    " sales based on price.\n"
   ]
  },
  {
   "cell_type": "code",
   "execution_count": 24,
   "id": "f6edfa02-576c-4511-8001-aea45b5af88f",
   "metadata": {},
   "outputs": [
    {
     "data": {
      "text/plain": [
       "array([97.80487805])"
      ]
     },
     "execution_count": 24,
     "metadata": {},
     "output_type": "execute_result"
    }
   ],
   "source": [
    "from sklearn.linear_model import LinearRegression\n",
    "import pandas as pd\n",
    "r = LinearRegression()\n",
    "x = [10, 15, 12, 8, 14]\n",
    "y = [100, 80, 90, 110, 95]\n",
    "x = pd.DataFrame(x)\n",
    "\n",
    "r.fit(x,y)\n",
    "r.predict([[11]])"
   ]
  },
  {
   "cell_type": "markdown",
   "id": "0b88fda1-6824-4bfe-8d30-bd61bd3e6b75",
   "metadata": {},
   "source": [
    "19. Scenario: A survey is conducted to measure the satisfaction levels of customers with a new product. The data collected is as follows:\n",
    "    [7, 8, 9, 6, 8, 7, 9, 7, 8, 7]\n",
    "    Calculate the standard error of the mean satisfaction score.\n"
   ]
  },
  {
   "cell_type": "code",
   "execution_count": 35,
   "id": "428319b6-c00e-489f-99ca-dff75c57438c",
   "metadata": {},
   "outputs": [
    {
     "name": "stdout",
     "output_type": "stream",
     "text": [
      "Standard Error: 0.3055050463303893\n"
     ]
    }
   ],
   "source": [
    "import math\n",
    "\n",
    "data = [7, 8, 9, 6, 8, 7, 9, 7, 8, 7]\n",
    "sample_size = len(data)\n",
    "mean = sum(data) / sample_size\n",
    "squared_deviations = [(x - mean) ** 2 for x in data]\n",
    "variance = sum(squared_deviations) / (sample_size - 1)\n",
    "standard_deviation = math.sqrt(variance)\n",
    "standard_error = standard_deviation / math.sqrt(sample_size)\n",
    "\n",
    "print(\"Standard Error:\", standard_error)\n"
   ]
  },
  {
   "cell_type": "markdown",
   "id": "84c56884-2854-4e92-8d0c-7092f7363474",
   "metadata": {},
   "source": [
    "20. Scenario: A company wants to analyze the relationship between advertising expenditure and sales. The data collected is as follows:\n",
    "    Advertising Expenditure (in thousands): [10, 15, 12, 8, 14]\n",
    "    Sales (in thousands): [25, 30, 28, 20, 26]\n",
    "    Perform a multiple regression analysis to predict sales based on advertising expenditure.\n"
   ]
  },
  {
   "cell_type": "code",
   "execution_count": 31,
   "id": "3d28e20e-e2db-403f-8da6-b73c3542abc5",
   "metadata": {},
   "outputs": [
    {
     "data": {
      "text/plain": [
       "array([24.87804878])"
      ]
     },
     "execution_count": 31,
     "metadata": {},
     "output_type": "execute_result"
    }
   ],
   "source": [
    "from sklearn.linear_model import LinearRegression\n",
    "import pandas as pd\n",
    "r = LinearRegression()\n",
    "x =  [10, 15, 12, 8, 14] \n",
    "y = [25, 30, 28, 20, 26]\n",
    "x = pd.DataFrame(x)\n",
    "\n",
    "r.fit(x,y)\n",
    "r.predict([[11]])"
   ]
  }
 ],
 "metadata": {
  "kernelspec": {
   "display_name": "Python 3 (ipykernel)",
   "language": "python",
   "name": "python3"
  },
  "language_info": {
   "codemirror_mode": {
    "name": "ipython",
    "version": 3
   },
   "file_extension": ".py",
   "mimetype": "text/x-python",
   "name": "python",
   "nbconvert_exporter": "python",
   "pygments_lexer": "ipython3",
   "version": "3.10.8"
  }
 },
 "nbformat": 4,
 "nbformat_minor": 5
}
