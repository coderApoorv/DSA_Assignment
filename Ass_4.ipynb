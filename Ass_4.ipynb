{
 "cells": [
  {
   "cell_type": "markdown",
   "id": "e0ba456d-fec9-4cd9-8a68-5cf42c94ed2e",
   "metadata": {},
   "source": [
    "<aside>\n",
    "💡 **Question 1**\n",
    "Given three integer arrays arr1, arr2 and arr3 **sorted** in **strictly increasing** order, return a sorted array of **only** the integers that appeared in **all** three arrays.\n",
    "\n",
    "**Example 1:**\n",
    "\n",
    "Input: arr1 = [1,2,3,4,5], arr2 = [1,2,5,7,9], arr3 = [1,3,4,5,8]\n",
    "\n",
    "Output: [1,5]\n",
    "\n",
    "**Explanation:** Only 1 and 5 appeared in the three arrays.\n",
    "\n",
    "</aside>"
   ]
  },
  {
   "cell_type": "code",
   "execution_count": 1,
   "id": "d89a4353-720b-4676-871f-d4a7c5429e0a",
   "metadata": {},
   "outputs": [],
   "source": [
    "def commonElements(arr1, arr2, arr3):\n",
    "    ptr1 = ptr2 = ptr3 = 0\n",
    "    result = []\n",
    "\n",
    "    while ptr1 < len(arr1) and ptr2 < len(arr2) and ptr3 < len(arr3):\n",
    "        if arr1[ptr1] == arr2[ptr2] == arr3[ptr3]:\n",
    "            result.append(arr1[ptr1])\n",
    "            ptr1 += 1\n",
    "            ptr2 += 1\n",
    "            ptr3 += 1\n",
    "        elif arr1[ptr1] <= arr2[ptr2] and arr1[ptr1] <= arr3[ptr3]:\n",
    "            ptr1 += 1\n",
    "        elif arr2[ptr2] <= arr1[ptr1] and arr2[ptr2] <= arr3[ptr3]:\n",
    "            ptr2 += 1\n",
    "        elif arr3[ptr3] <= arr1[ptr1] and arr3[ptr3] <= arr2[ptr2]:\n",
    "            ptr3 += 1\n",
    "\n",
    "    return result\n"
   ]
  },
  {
   "cell_type": "code",
   "execution_count": 2,
   "id": "57127c79-e8b6-4a15-a363-01264501185b",
   "metadata": {},
   "outputs": [
    {
     "name": "stdout",
     "output_type": "stream",
     "text": [
      "[1, 5]\n"
     ]
    }
   ],
   "source": [
    "arr1 = [1, 2, 3, 4, 5]\n",
    "arr2 = [1, 2, 5, 7, 9]\n",
    "arr3 = [1, 3, 4, 5, 8]\n",
    "print(commonElements(arr1, arr2, arr3))\n"
   ]
  },
  {
   "cell_type": "markdown",
   "id": "19282800-d4c9-45eb-bd8e-4eaa8c6baa02",
   "metadata": {},
   "source": [
    "<aside>\n",
    "💡 **Question 2**\n",
    "\n",
    "Given two **0-indexed** integer arrays nums1 and nums2, return *a list* answer *of size* 2 *where:*\n",
    "\n",
    "- answer[0] *is a list of all **distinct** integers in* nums1 *which are **not** present in* nums2*.*\n",
    "- answer[1] *is a list of all **distinct** integers in* nums2 *which are **not** present in* nums1.\n",
    "\n",
    "**Note** that the integers in the lists may be returned in **any** order.\n",
    "\n",
    "**Example 1:**\n",
    "\n",
    "**Input:** nums1 = [1,2,3], nums2 = [2,4,6]\n",
    "\n",
    "**Output:** [[1,3],[4,6]]\n",
    "\n",
    "**Explanation:**\n",
    "\n",
    "For nums1, nums1[1] = 2 is present at index 0 of nums2, whereas nums1[0] = 1 and nums1[2] = 3 are not present in nums2. Therefore, answer[0] = [1,3].\n",
    "\n",
    "For nums2, nums2[0] = 2 is present at index 1 of nums1, whereas nums2[1] = 4 and nums2[2] = 6 are not present in nums2. Therefore, answer[1] = [4,6].\n",
    "\n",
    "</aside>"
   ]
  },
  {
   "cell_type": "code",
   "execution_count": 4,
   "id": "e188b845-8033-43ee-afb1-d0b0edbbc592",
   "metadata": {},
   "outputs": [],
   "source": [
    "def findDistinct(nums1, nums2):\n",
    "    set1 = set(nums1)\n",
    "    set2 = set(nums2)\n",
    "\n",
    "    result1 = list(set1 - set2)\n",
    "    result2 = list(set2 - set1)\n",
    "\n",
    "    return [result1, result2]\n"
   ]
  },
  {
   "cell_type": "code",
   "execution_count": 5,
   "id": "4d9a709c-268b-4b2d-8750-75c2d5aaf7da",
   "metadata": {},
   "outputs": [
    {
     "name": "stdout",
     "output_type": "stream",
     "text": [
      "[[1, 3], [4, 6]]\n"
     ]
    }
   ],
   "source": [
    "nums1 = [1, 2, 3]\n",
    "nums2 = [2, 4, 6]\n",
    "print(findDistinct(nums1, nums2))\n"
   ]
  },
  {
   "cell_type": "markdown",
   "id": "49e03b57-49f1-4f85-b256-249f0a3bf4a2",
   "metadata": {},
   "source": [
    "<aside>\n",
    "💡 **Question 3**\n",
    "Given a 2D integer array matrix, return *the **transpose** of* matrix.\n",
    "\n",
    "The **transpose** of a matrix is the matrix flipped over its main diagonal, switching the matrix's row and column indices.\n",
    "\n",
    "**Example 1:**\n",
    "\n",
    "Input: matrix = [[1,2,3],[4,5,6],[7,8,9]]\n",
    "\n",
    "Output: [[1,4,7],[2,5,8],[3,6,9]]\n",
    "\n",
    "</aside>"
   ]
  },
  {
   "cell_type": "code",
   "execution_count": 6,
   "id": "2d8a0659-8f77-4c4b-bc27-55e15259b2ae",
   "metadata": {},
   "outputs": [],
   "source": [
    "def transpose(matrix):\n",
    "    rows = len(matrix)\n",
    "    cols = len(matrix[0])\n",
    "\n",
    "    transpose = [[0] * rows for _ in range(cols)]\n",
    "\n",
    "    for i in range(rows):\n",
    "        for j in range(cols):\n",
    "            transpose[j][i] = matrix[i][j]\n",
    "\n",
    "    return transpose\n"
   ]
  },
  {
   "cell_type": "code",
   "execution_count": 7,
   "id": "63b7ae2c-6969-4961-b8b4-b234358e5bd9",
   "metadata": {},
   "outputs": [
    {
     "name": "stdout",
     "output_type": "stream",
     "text": [
      "[[1, 4, 7], [2, 5, 8], [3, 6, 9]]\n"
     ]
    }
   ],
   "source": [
    "matrix = [[1, 2, 3], [4, 5, 6], [7, 8, 9]]\n",
    "print(transpose(matrix))\n"
   ]
  },
  {
   "cell_type": "markdown",
   "id": "bc2d4999-cbc2-4106-ab4b-da27e9b77256",
   "metadata": {},
   "source": [
    "<aside>\n",
    "💡 **Question 4**\n",
    "Given an integer array nums of 2n integers, group these integers into n pairs (a1, b1), (a2, b2), ..., (an, bn) such that the sum of min(ai, bi) for all i is **maximized**. Return *the maximized sum*.\n",
    "\n",
    "**Example 1:**\n",
    "\n",
    "Input: nums = [1,4,3,2]\n",
    "\n",
    "Output: 4\n",
    "\n",
    "**Explanation:** All possible pairings (ignoring the ordering of elements) are:\n",
    "\n",
    "1. (1, 4), (2, 3) -> min(1, 4) + min(2, 3) = 1 + 2 = 3\n",
    "\n",
    "2. (1, 3), (2, 4) -> min(1, 3) + min(2, 4) = 1 + 2 = 3\n",
    "\n",
    "3. (1, 2), (3, 4) -> min(1, 2) + min(3, 4) = 1 + 3 = 4\n",
    "\n",
    "So the maximum possible sum is 4.\n",
    "\n",
    "</aside>"
   ]
  },
  {
   "cell_type": "code",
   "execution_count": 8,
   "id": "6441bb38-c28c-420b-a8b3-b4fe34204342",
   "metadata": {},
   "outputs": [],
   "source": [
    "def arrayPairSum(nums):\n",
    "    nums.sort()\n",
    "    max_sum = 0\n",
    "\n",
    "    for i in range(0, len(nums), 2):\n",
    "        max_sum += nums[i]\n",
    "\n",
    "    return max_sum\n"
   ]
  },
  {
   "cell_type": "code",
   "execution_count": 9,
   "id": "4bd96a7f-f119-48a2-ada9-743c128a1b1b",
   "metadata": {},
   "outputs": [
    {
     "name": "stdout",
     "output_type": "stream",
     "text": [
      "4\n"
     ]
    }
   ],
   "source": [
    "nums = [1, 4, 3, 2]\n",
    "print(arrayPairSum(nums))\n"
   ]
  },
  {
   "cell_type": "markdown",
   "id": "b77491cb-97fd-460b-aa74-1b5f69786b9c",
   "metadata": {},
   "source": [
    "<aside>\n",
    "💡 **Question 5**\n",
    "You have n coins and you want to build a staircase with these coins. The staircase consists of k rows where the ith row has exactly i coins. The last row of the staircase **may be** incomplete.\n",
    "\n",
    "Given the integer n, return *the number of **complete rows** of the staircase you will build*.\n",
    "\n",
    "**Example 1:**\n",
    "\n",
    "[]()\n",
    "\n",
    "![v2.jpg](https://s3-us-west-2.amazonaws.com/secure.notion-static.com/4bd91cfa-d2b1-47b3-8197-a72e8dcfff4b/v2.jpg)\n",
    "\n",
    "**Input:** n = 5\n",
    "\n",
    "**Output:** 2\n",
    "\n",
    "**Explanation:** Because the 3rd row is incomplete, we return 2.\n",
    "\n",
    "</aside>"
   ]
  },
  {
   "cell_type": "code",
   "execution_count": 10,
   "id": "8e522565-7579-425c-8680-f7169ca3c3b3",
   "metadata": {},
   "outputs": [],
   "source": [
    "def arrangeCoins(n):\n",
    "    k = 0\n",
    "    coins_sum = 0\n",
    "\n",
    "    while coins_sum <= n:\n",
    "        k += 1\n",
    "        coins_sum += k\n",
    "\n",
    "    return k - 1\n"
   ]
  },
  {
   "cell_type": "code",
   "execution_count": 11,
   "id": "1b9d8a7f-9840-49e4-822e-1400f1604bb2",
   "metadata": {},
   "outputs": [
    {
     "name": "stdout",
     "output_type": "stream",
     "text": [
      "2\n"
     ]
    }
   ],
   "source": [
    "n = 5\n",
    "print(arrangeCoins(n))\n"
   ]
  },
  {
   "cell_type": "markdown",
   "id": "22e0c81e-9691-4c3d-b560-a6a9d24540cb",
   "metadata": {},
   "source": [
    "<aside>\n",
    "💡 **Question 6**\n",
    "Given an integer array nums sorted in **non-decreasing** order, return *an array of **the squares of each number** sorted in non-decreasing order*.\n",
    "\n",
    "**Example 1:**\n",
    "\n",
    "Input: nums = [-4,-1,0,3,10]\n",
    "\n",
    "Output: [0,1,9,16,100]\n",
    "\n",
    "**Explanation:** After squaring, the array becomes [16,1,0,9,100].\n",
    "After sorting, it becomes [0,1,9,16,100]\n",
    "\n",
    "</aside>"
   ]
  },
  {
   "cell_type": "code",
   "execution_count": 12,
   "id": "d2a62ef9-8966-4088-9f01-d2e885f1a5b9",
   "metadata": {},
   "outputs": [],
   "source": [
    "def sortedSquares(nums):\n",
    "    left = 0\n",
    "    right = len(nums) - 1\n",
    "    result = [0] * len(nums)\n",
    "    idx = len(nums) - 1\n",
    "\n",
    "    while left <= right:\n",
    "        if abs(nums[left]) >= abs(nums[right]):\n",
    "            result[idx] = nums[left] * nums[left]\n",
    "            left += 1\n",
    "        else:\n",
    "            result[idx] = nums[right] * nums[right]\n",
    "            right -= 1\n",
    "        idx -= 1\n",
    "\n",
    "    return result\n"
   ]
  },
  {
   "cell_type": "code",
   "execution_count": 13,
   "id": "9a622cd3-2e3e-4e3a-8ed7-8b29c80efea3",
   "metadata": {},
   "outputs": [
    {
     "name": "stdout",
     "output_type": "stream",
     "text": [
      "[0, 1, 9, 16, 100]\n"
     ]
    }
   ],
   "source": [
    "nums = [-4, -1, 0, 3, 10]\n",
    "print(sortedSquares(nums))\n"
   ]
  },
  {
   "cell_type": "markdown",
   "id": "fceb9a1d-344d-4f2d-93e3-ab0b205808d4",
   "metadata": {},
   "source": [
    "<aside>\n",
    "💡 **Question 7**\n",
    "You are given an m x n matrix M initialized with all 0's and an array of operations ops, where ops[i] = [ai, bi] means M[x][y] should be incremented by one for all 0 <= x < ai and 0 <= y < bi.\n",
    "\n",
    "Count and return *the number of maximum integers in the matrix after performing all the operations*\n",
    "\n",
    "**Example 1:**\n",
    "\n",
    "![q4.jpg](https://s3-us-west-2.amazonaws.com/secure.notion-static.com/4d0890d0-7bc7-4f59-be8e-352d9f3c1c52/q4.jpg)\n",
    "\n",
    "**Input:** m = 3, n = 3, ops = [[2,2],[3,3]]\n",
    "\n",
    "**Output:** 4\n",
    "\n",
    "**Explanation:** The maximum integer in M is 2, and there are four of it in M. So return 4.\n",
    "\n",
    "</aside>"
   ]
  },
  {
   "cell_type": "code",
   "execution_count": 14,
   "id": "b35dcaa4-b804-4053-84c5-91515e4ee9fc",
   "metadata": {},
   "outputs": [],
   "source": [
    "def maxCount(m, n, ops):\n",
    "    min_row = m\n",
    "    min_col = n\n",
    "\n",
    "    for op in ops:\n",
    "        min_row = min(min_row, op[0])\n",
    "        min_col = min(min_col, op[1])\n",
    "\n",
    "    return min_row * min_col\n"
   ]
  },
  {
   "cell_type": "code",
   "execution_count": 15,
   "id": "effc2e05-d078-40d8-a983-518733aa8ffe",
   "metadata": {},
   "outputs": [
    {
     "name": "stdout",
     "output_type": "stream",
     "text": [
      "4\n"
     ]
    }
   ],
   "source": [
    "m = 3\n",
    "n = 3\n",
    "ops = [[2, 2], [3, 3]]\n",
    "print(maxCount(m, n, ops))\n"
   ]
  },
  {
   "cell_type": "markdown",
   "id": "be45f14a-ca4e-420c-a281-d2d7a02d3c76",
   "metadata": {},
   "source": [
    "<aside>\n",
    "💡 **Question 8**\n",
    "\n",
    "Given the array nums consisting of 2n elements in the form [x1,x2,...,xn,y1,y2,...,yn].\n",
    "\n",
    "*Return the array in the form* [x1,y1,x2,y2,...,xn,yn].\n",
    "\n",
    "**Example 1:**\n",
    "\n",
    "**Input:** nums = [2,5,1,3,4,7], n = 3\n",
    "\n",
    "**Output:** [2,3,5,4,1,7]\n",
    "\n",
    "**Explanation:** Since x1=2, x2=5, x3=1, y1=3, y2=4, y3=7 then the answer is [2,3,5,4,1,7].\n",
    "\n",
    "</aside>"
   ]
  },
  {
   "cell_type": "code",
   "execution_count": 17,
   "id": "065851a4-7e1f-4005-b6d0-b7b8518688ee",
   "metadata": {},
   "outputs": [],
   "source": [
    "def shuffle(nums, n):\n",
    "    output = [0] * (2 * n)\n",
    "    left, right = 0, n\n",
    "\n",
    "    for i in range(2 * n):\n",
    "        if i % 2 == 0:\n",
    "            output[i] = nums[left]\n",
    "            left += 1\n",
    "        else:\n",
    "            output[i] = nums[right]\n",
    "            right += 1\n",
    "\n",
    "    return output\n"
   ]
  },
  {
   "cell_type": "code",
   "execution_count": 18,
   "id": "e2301b9d-4a99-4182-86cf-7e1ac09deb26",
   "metadata": {},
   "outputs": [
    {
     "name": "stdout",
     "output_type": "stream",
     "text": [
      "[2, 3, 5, 4, 1, 7]\n"
     ]
    }
   ],
   "source": [
    "nums = [2, 5, 1, 3, 4, 7]\n",
    "n = 3\n",
    "print(shuffle(nums, n))\n"
   ]
  },
  {
   "cell_type": "code",
   "execution_count": null,
   "id": "1d5728f0-95d0-421a-9169-ed814a4bfc50",
   "metadata": {},
   "outputs": [],
   "source": []
  }
 ],
 "metadata": {
  "kernelspec": {
   "display_name": "Python 3 (ipykernel)",
   "language": "python",
   "name": "python3"
  },
  "language_info": {
   "codemirror_mode": {
    "name": "ipython",
    "version": 3
   },
   "file_extension": ".py",
   "mimetype": "text/x-python",
   "name": "python",
   "nbconvert_exporter": "python",
   "pygments_lexer": "ipython3",
   "version": "3.10.8"
  }
 },
 "nbformat": 4,
 "nbformat_minor": 5
}
